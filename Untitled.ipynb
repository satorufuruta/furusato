{
 "cells": [
  {
   "cell_type": "code",
   "execution_count": 1,
   "metadata": {},
   "outputs": [],
   "source": [
    "from glob import glob"
   ]
  },
  {
   "cell_type": "code",
   "execution_count": 2,
   "metadata": {},
   "outputs": [],
   "source": [
    "import os"
   ]
  },
  {
   "cell_type": "code",
   "execution_count": 3,
   "metadata": {},
   "outputs": [],
   "source": [
    "os.chdir('/Users/furutasatoru/Documents/大学/シス創/大規模データ分析/ingredient')"
   ]
  },
  {
   "cell_type": "code",
   "execution_count": 4,
   "metadata": {},
   "outputs": [
    {
     "ename": "NameError",
     "evalue": "name 'pd' is not defined",
     "output_type": "error",
     "traceback": [
      "\u001b[0;31m---------------------------------------------------------------------------\u001b[0m",
      "\u001b[0;31mNameError\u001b[0m                                 Traceback (most recent call last)",
      "\u001b[0;32m<ipython-input-4-6c71980ae35e>\u001b[0m in \u001b[0;36m<module>\u001b[0;34m\u001b[0m\n\u001b[0;32m----> 1\u001b[0;31m \u001b[0ming98\u001b[0m \u001b[0;34m=\u001b[0m \u001b[0mpd\u001b[0m\u001b[0;34m.\u001b[0m\u001b[0mread_csv\u001b[0m\u001b[0;34m(\u001b[0m\u001b[0;34m\"ingredient1998.csv\"\u001b[0m\u001b[0;34m)\u001b[0m\u001b[0;34m\u001b[0m\u001b[0;34m\u001b[0m\u001b[0m\n\u001b[0m",
      "\u001b[0;31mNameError\u001b[0m: name 'pd' is not defined"
     ]
    }
   ],
   "source": [
    "ing98 = pd.read_csv(\"ingredient1998.csv\")"
   ]
  },
  {
   "cell_type": "code",
   "execution_count": 5,
   "metadata": {},
   "outputs": [],
   "source": [
    "import pandas as pd"
   ]
  },
  {
   "cell_type": "code",
   "execution_count": 6,
   "metadata": {},
   "outputs": [],
   "source": [
    "ing98 = pd.read_csv(\"ingredient1998.csv\")"
   ]
  },
  {
   "cell_type": "code",
   "execution_count": 7,
   "metadata": {},
   "outputs": [
    {
     "ename": "AttributeError",
     "evalue": "'DataFrame' object has no attribute 'inin'",
     "output_type": "error",
     "traceback": [
      "\u001b[0;31m---------------------------------------------------------------------------\u001b[0m",
      "\u001b[0;31mAttributeError\u001b[0m                            Traceback (most recent call last)",
      "\u001b[0;32m<ipython-input-7-12fdcc0b4bcf>\u001b[0m in \u001b[0;36m<module>\u001b[0;34m\u001b[0m\n\u001b[0;32m----> 1\u001b[0;31m \u001b[0ming98\u001b[0m\u001b[0;34m.\u001b[0m\u001b[0minin\u001b[0m\u001b[0;34m[\u001b[0m\u001b[0;34m\"キャベツ\"\u001b[0m\u001b[0;34m]\u001b[0m\u001b[0;34m\u001b[0m\u001b[0;34m\u001b[0m\u001b[0m\n\u001b[0m",
      "\u001b[0;32m~/anaconda3/lib/python3.7/site-packages/pandas/core/generic.py\u001b[0m in \u001b[0;36m__getattr__\u001b[0;34m(self, name)\u001b[0m\n\u001b[1;32m   5065\u001b[0m             \u001b[0;32mif\u001b[0m \u001b[0mself\u001b[0m\u001b[0;34m.\u001b[0m\u001b[0m_info_axis\u001b[0m\u001b[0;34m.\u001b[0m\u001b[0m_can_hold_identifiers_and_holds_name\u001b[0m\u001b[0;34m(\u001b[0m\u001b[0mname\u001b[0m\u001b[0;34m)\u001b[0m\u001b[0;34m:\u001b[0m\u001b[0;34m\u001b[0m\u001b[0;34m\u001b[0m\u001b[0m\n\u001b[1;32m   5066\u001b[0m                 \u001b[0;32mreturn\u001b[0m \u001b[0mself\u001b[0m\u001b[0;34m[\u001b[0m\u001b[0mname\u001b[0m\u001b[0;34m]\u001b[0m\u001b[0;34m\u001b[0m\u001b[0;34m\u001b[0m\u001b[0m\n\u001b[0;32m-> 5067\u001b[0;31m             \u001b[0;32mreturn\u001b[0m \u001b[0mobject\u001b[0m\u001b[0;34m.\u001b[0m\u001b[0m__getattribute__\u001b[0m\u001b[0;34m(\u001b[0m\u001b[0mself\u001b[0m\u001b[0;34m,\u001b[0m \u001b[0mname\u001b[0m\u001b[0;34m)\u001b[0m\u001b[0;34m\u001b[0m\u001b[0;34m\u001b[0m\u001b[0m\n\u001b[0m\u001b[1;32m   5068\u001b[0m \u001b[0;34m\u001b[0m\u001b[0m\n\u001b[1;32m   5069\u001b[0m     \u001b[0;32mdef\u001b[0m \u001b[0m__setattr__\u001b[0m\u001b[0;34m(\u001b[0m\u001b[0mself\u001b[0m\u001b[0;34m,\u001b[0m \u001b[0mname\u001b[0m\u001b[0;34m,\u001b[0m \u001b[0mvalue\u001b[0m\u001b[0;34m)\u001b[0m\u001b[0;34m:\u001b[0m\u001b[0;34m\u001b[0m\u001b[0;34m\u001b[0m\u001b[0m\n",
      "\u001b[0;31mAttributeError\u001b[0m: 'DataFrame' object has no attribute 'inin'"
     ]
    }
   ],
   "source": [
    "ing98.inin[\"キャベツ\"]"
   ]
  },
  {
   "cell_type": "code",
   "execution_count": 8,
   "metadata": {},
   "outputs": [
    {
     "ename": "TypeError",
     "evalue": "'method' object is not subscriptable",
     "output_type": "error",
     "traceback": [
      "\u001b[0;31m---------------------------------------------------------------------------\u001b[0m",
      "\u001b[0;31mTypeError\u001b[0m                                 Traceback (most recent call last)",
      "\u001b[0;32m<ipython-input-8-48197ee10864>\u001b[0m in \u001b[0;36m<module>\u001b[0;34m\u001b[0m\n\u001b[0;32m----> 1\u001b[0;31m \u001b[0ming98\u001b[0m\u001b[0;34m.\u001b[0m\u001b[0misin\u001b[0m\u001b[0;34m[\u001b[0m\u001b[0;34m\"キャベツ\"\u001b[0m\u001b[0;34m]\u001b[0m\u001b[0;34m\u001b[0m\u001b[0;34m\u001b[0m\u001b[0m\n\u001b[0m",
      "\u001b[0;31mTypeError\u001b[0m: 'method' object is not subscriptable"
     ]
    }
   ],
   "source": [
    "ing98.isin[\"キャベツ\"]"
   ]
  },
  {
   "cell_type": "code",
   "execution_count": 9,
   "metadata": {},
   "outputs": [
    {
     "ename": "TypeError",
     "evalue": "'method' object is not subscriptable",
     "output_type": "error",
     "traceback": [
      "\u001b[0;31m---------------------------------------------------------------------------\u001b[0m",
      "\u001b[0;31mTypeError\u001b[0m                                 Traceback (most recent call last)",
      "\u001b[0;32m<ipython-input-9-b927488ca33d>\u001b[0m in \u001b[0;36m<module>\u001b[0;34m\u001b[0m\n\u001b[0;32m----> 1\u001b[0;31m \u001b[0ming98\u001b[0m\u001b[0;34m.\u001b[0m\u001b[0misin\u001b[0m\u001b[0;34m[\u001b[0m\u001b[0;34m\"塩\"\u001b[0m\u001b[0;34m]\u001b[0m\u001b[0;34m\u001b[0m\u001b[0;34m\u001b[0m\u001b[0m\n\u001b[0m",
      "\u001b[0;31mTypeError\u001b[0m: 'method' object is not subscriptable"
     ]
    }
   ],
   "source": [
    "ing98.isin[\"塩\"]"
   ]
  },
  {
   "cell_type": "code",
   "execution_count": 10,
   "metadata": {},
   "outputs": [
    {
     "name": "stdout",
     "output_type": "stream",
     "text": [
      "     030833ed4e8dab3aa1e9d75edc1681efb368434f      スライスチーズ  \\\n",
      "0    030833ed4e8dab3aa1e9d75edc1681efb368434f      チキンブイヨン   \n",
      "1    030833ed4e8dab3aa1e9d75edc1681efb368434f           白米   \n",
      "2    04324210352066234d6eb43866b34695cb541d31            鮭   \n",
      "3    04324210352066234d6eb43866b34695cb541d31         たまねぎ   \n",
      "4    04324210352066234d6eb43866b34695cb541d31          しめじ   \n",
      "5    04324210352066234d6eb43866b34695cb541d31         白ワイン   \n",
      "6    04324210352066234d6eb43866b34695cb541d31      オリーブオイル   \n",
      "7    04324210352066234d6eb43866b34695cb541d31          ハーブ   \n",
      "8    04324210352066234d6eb43866b34695cb541d31          バター   \n",
      "9    04324210352066234d6eb43866b34695cb541d31         レモン汁   \n",
      "10   04324210352066234d6eb43866b34695cb541d31       アルミホイル   \n",
      "11   10ba7960f7fbb088ec7f3b79467a2db269662f4c           牛乳   \n",
      "12   10ba7960f7fbb088ec7f3b79467a2db269662f4c        生クリーム   \n",
      "13   10ba7960f7fbb088ec7f3b79467a2db269662f4c       グランマニエ   \n",
      "14   10ba7960f7fbb088ec7f3b79467a2db269662f4c           砂糖   \n",
      "15   10ba7960f7fbb088ec7f3b79467a2db269662f4c          バター   \n",
      "16   10ba7960f7fbb088ec7f3b79467a2db269662f4c         はちみつ   \n",
      "17   10ba7960f7fbb088ec7f3b79467a2db269662f4c  ココア（バンホーテン）   \n",
      "18   12d462eae4db630ea5280380ebc99da3318080ae          よもぎ   \n",
      "19   12d462eae4db630ea5280380ebc99da3318080ae            塩   \n",
      "20   12d462eae4db630ea5280380ebc99da3318080ae    上新粉(お米の粉）   \n",
      "21   12d462eae4db630ea5280380ebc99da3318080ae           熱湯   \n",
      "22   12d462eae4db630ea5280380ebc99da3318080ae          あんこ   \n",
      "23   23ffd9fbfa106002b496d215641d04ac8914b018         にんじん   \n",
      "24   23ffd9fbfa106002b496d215641d04ac8914b018          レモン   \n",
      "25   23ffd9fbfa106002b496d215641d04ac8914b018         亜麻仁油   \n",
      "26   23ffd9fbfa106002b496d215641d04ac8914b018         レーズン   \n",
      "27   28e1959dc6e11557c12b52fbb0a74293b10bfb01            卵   \n",
      "28   28e1959dc6e11557c12b52fbb0a74293b10bfb01       サラダオイル   \n",
      "29   28e1959dc6e11557c12b52fbb0a74293b10bfb01            塩   \n",
      "..                                        ...          ...   \n",
      "287  e29f26c2e6e1bb1c58a2d6f0fc0a6a7fed2c080d            塩   \n",
      "288  e29f26c2e6e1bb1c58a2d6f0fc0a6a7fed2c080d          バジル   \n",
      "289  e29f26c2e6e1bb1c58a2d6f0fc0a6a7fed2c080d          バター   \n",
      "290  e29f26c2e6e1bb1c58a2d6f0fc0a6a7fed2c080d      とろけるチーズ   \n",
      "291  e73cf4d2de252ffd9a6ba0080ff77ffb9d6fe557          タイ米   \n",
      "292  e73cf4d2de252ffd9a6ba0080ff77ffb9d6fe557        ブリトの皮   \n",
      "293  e73cf4d2de252ffd9a6ba0080ff77ffb9d6fe557    リフライドビーンズ   \n",
      "294  e73cf4d2de252ffd9a6ba0080ff77ffb9d6fe557           牛肉   \n",
      "295  e73cf4d2de252ffd9a6ba0080ff77ffb9d6fe557      サワークリーム   \n",
      "296  e73cf4d2de252ffd9a6ba0080ff77ffb9d6fe557      スライスチーズ   \n",
      "297  e73cf4d2de252ffd9a6ba0080ff77ffb9d6fe557         生トマト   \n",
      "298  e73cf4d2de252ffd9a6ba0080ff77ffb9d6fe557          亀虫草   \n",
      "299  e73cf4d2de252ffd9a6ba0080ff77ffb9d6fe557         たまねぎ   \n",
      "300  e73cf4d2de252ffd9a6ba0080ff77ffb9d6fe557          レタス   \n",
      "301  e73cf4d2de252ffd9a6ba0080ff77ffb9d6fe557       サラサソース   \n",
      "302  e73cf4d2de252ffd9a6ba0080ff77ffb9d6fe557       ブリトソース   \n",
      "303  ed4f81e0a05c77c078bd0b6a1c687f41452f2116        鯖（さば）   \n",
      "304  ed4f81e0a05c77c078bd0b6a1c687f41452f2116         しょうが   \n",
      "305  ed4f81e0a05c77c078bd0b6a1c687f41452f2116          赤味噌   \n",
      "306  ed4f81e0a05c77c078bd0b6a1c687f41452f2116           砂糖   \n",
      "307  ed4f81e0a05c77c078bd0b6a1c687f41452f2116           醤油   \n",
      "308  ed4f81e0a05c77c078bd0b6a1c687f41452f2116          だし汁   \n",
      "309  fa327f045f3195d52e5d9ad3f06b30f2d316c89b         バゲット   \n",
      "310  fa327f045f3195d52e5d9ad3f06b30f2d316c89b            卵   \n",
      "311  fa327f045f3195d52e5d9ad3f06b30f2d316c89b           牛乳   \n",
      "312  fa327f045f3195d52e5d9ad3f06b30f2d316c89b        生クリーム   \n",
      "313  fa327f045f3195d52e5d9ad3f06b30f2d316c89b         コーヒー   \n",
      "314  fa327f045f3195d52e5d9ad3f06b30f2d316c89b         シナモン   \n",
      "315  fa327f045f3195d52e5d9ad3f06b30f2d316c89b     メープルシロップ   \n",
      "316  fa327f045f3195d52e5d9ad3f06b30f2d316c89b         はちみつ   \n",
      "\n",
      "        4枚（スイスのグリュイエルチーズがおすすめ）  \n",
      "0                           1片  \n",
      "1                   1.5カップくらい？  \n",
      "2               一匹(キングサーモンでも可）  \n",
      "3                         １/４個  \n",
      "4                       １/４パック  \n",
      "5                           大２  \n",
      "6                         たっぷり  \n",
      "7    バジル・タイム・ローズマリーなど(生でも乾燥でも）  \n",
      "8                           適当  \n",
      "9                         お好みで  \n",
      "10                     魚が包める程度  \n",
      "11                       ８００ｃｃ  \n",
      "12                          適当  \n",
      "13              大さじ ３(好きな人は沢山）  \n",
      "14                 ２５ｇ(グラニュー糖）  \n",
      "15                        お好みで  \n",
      "16                       大さじ ３  \n",
      "17                         ５０ｇ  \n",
      "18            ２０×１５cmビニール袋(一杯)  \n",
      "19                        一つまみ  \n",
      "20                        ５００ｇ  \n",
      "21                       ５００ｃｃ  \n",
      "22        250g（もちろん小豆から作ってもよい）  \n",
      "23                          2本  \n",
      "24                          半個  \n",
      "25                        大さじ2  \n",
      "26                          適量  \n",
      "27                          二個  \n",
      "28                          少々  \n",
      "29                          少々  \n",
      "..                         ...  \n",
      "287                         少々  \n",
      "288                         少々  \n",
      "289                         少々  \n",
      "290                      好きなだけ  \n",
      "291                    ２ごう？くらい  \n",
      "292                   大き目の皮を２枚  \n",
      "293                  ちいさい缶をひとつ  \n",
      "294                    １ pound  \n",
      "295                小さいカップのを一つ。  \n",
      "296               こまかくきるので適当に。  \n",
      "297                  大きめサイズを一つ  \n",
      "298          別名 チャイニーズねぎ。３本くらい  \n",
      "299                        半分。  \n",
      "300               おおきめの葉を２枚ほど。  \n",
      "301   日本で売っているのかな？辛さはおこのみでどうぞ。  \n",
      "302        日本で売っているのかな？粉末状のもの。  \n",
      "303                   一匹で2人分かな  \n",
      "304                小さいピンポン玉くらい  \n",
      "305                         大１  \n",
      "306                         大２  \n",
      "307                         大１  \n",
      "308              昆布とカツオ出汁 一カップ  \n",
      "309             １本(フランスパンでもいい）  \n",
      "310                         １個  \n",
      "311                       ２５ｃｃ  \n",
      "312             ２５ｃｃ(別に２５ｃｃ用意）  \n",
      "313                       ２５ｃｃ  \n",
      "314                        ２振り  \n",
      "315                         適宜  \n",
      "316                         大１  \n",
      "\n",
      "[317 rows x 3 columns]\n"
     ]
    }
   ],
   "source": [
    "print(ing98)"
   ]
  },
  {
   "cell_type": "code",
   "execution_count": 11,
   "metadata": {},
   "outputs": [],
   "source": [
    "ing98_白ワイン = (ing98 == '白ワイン')"
   ]
  },
  {
   "cell_type": "code",
   "execution_count": 12,
   "metadata": {},
   "outputs": [
    {
     "name": "stdout",
     "output_type": "stream",
     "text": [
      "     030833ed4e8dab3aa1e9d75edc1681efb368434f  スライスチーズ  4枚（スイスのグリュイエルチーズがおすすめ）\n",
      "0                                       False    False                   False\n",
      "1                                       False    False                   False\n",
      "2                                       False    False                   False\n",
      "3                                       False    False                   False\n",
      "4                                       False    False                   False\n",
      "5                                       False     True                   False\n",
      "6                                       False    False                   False\n",
      "7                                       False    False                   False\n",
      "8                                       False    False                   False\n",
      "9                                       False    False                   False\n",
      "10                                      False    False                   False\n",
      "11                                      False    False                   False\n",
      "12                                      False    False                   False\n",
      "13                                      False    False                   False\n",
      "14                                      False    False                   False\n",
      "15                                      False    False                   False\n",
      "16                                      False    False                   False\n",
      "17                                      False    False                   False\n",
      "18                                      False    False                   False\n",
      "19                                      False    False                   False\n",
      "20                                      False    False                   False\n",
      "21                                      False    False                   False\n",
      "22                                      False    False                   False\n",
      "23                                      False    False                   False\n",
      "24                                      False    False                   False\n",
      "25                                      False    False                   False\n",
      "26                                      False    False                   False\n",
      "27                                      False    False                   False\n",
      "28                                      False    False                   False\n",
      "29                                      False    False                   False\n",
      "..                                        ...      ...                     ...\n",
      "287                                     False    False                   False\n",
      "288                                     False    False                   False\n",
      "289                                     False    False                   False\n",
      "290                                     False    False                   False\n",
      "291                                     False    False                   False\n",
      "292                                     False    False                   False\n",
      "293                                     False    False                   False\n",
      "294                                     False    False                   False\n",
      "295                                     False    False                   False\n",
      "296                                     False    False                   False\n",
      "297                                     False    False                   False\n",
      "298                                     False    False                   False\n",
      "299                                     False    False                   False\n",
      "300                                     False    False                   False\n",
      "301                                     False    False                   False\n",
      "302                                     False    False                   False\n",
      "303                                     False    False                   False\n",
      "304                                     False    False                   False\n",
      "305                                     False    False                   False\n",
      "306                                     False    False                   False\n",
      "307                                     False    False                   False\n",
      "308                                     False    False                   False\n",
      "309                                     False    False                   False\n",
      "310                                     False    False                   False\n",
      "311                                     False    False                   False\n",
      "312                                     False    False                   False\n",
      "313                                     False    False                   False\n",
      "314                                     False    False                   False\n",
      "315                                     False    False                   False\n",
      "316                                     False    False                   False\n",
      "\n",
      "[317 rows x 3 columns]\n"
     ]
    }
   ],
   "source": [
    "print(ing98_白ワイン)"
   ]
  },
  {
   "cell_type": "code",
   "execution_count": 13,
   "metadata": {},
   "outputs": [
    {
     "name": "stdout",
     "output_type": "stream",
     "text": [
      "030833ed4e8dab3aa1e9d75edc1681efb368434f    0\n",
      "スライスチーズ                                     1\n",
      "4枚（スイスのグリュイエルチーズがおすすめ）                      0\n",
      "dtype: int64\n"
     ]
    }
   ],
   "source": [
    "print(ing98_白ワイン.sum())"
   ]
  },
  {
   "cell_type": "code",
   "execution_count": 14,
   "metadata": {},
   "outputs": [
    {
     "ename": "ParserError",
     "evalue": "Error tokenizing data. C error: Expected 3 fields in line 599269, saw 5\n",
     "output_type": "error",
     "traceback": [
      "\u001b[0;31m---------------------------------------------------------------------------\u001b[0m",
      "\u001b[0;31mParserError\u001b[0m                               Traceback (most recent call last)",
      "\u001b[0;32m<ipython-input-14-b1fa67ce0e28>\u001b[0m in \u001b[0;36m<module>\u001b[0;34m\u001b[0m\n\u001b[1;32m      7\u001b[0m \u001b[0ming05\u001b[0m \u001b[0;34m=\u001b[0m \u001b[0mpd\u001b[0m\u001b[0;34m.\u001b[0m\u001b[0mread_csv\u001b[0m\u001b[0;34m(\u001b[0m\u001b[0;34m\"ingredient2005.csv\"\u001b[0m\u001b[0;34m)\u001b[0m\u001b[0;34m\u001b[0m\u001b[0;34m\u001b[0m\u001b[0m\n\u001b[1;32m      8\u001b[0m \u001b[0ming06\u001b[0m \u001b[0;34m=\u001b[0m \u001b[0mpd\u001b[0m\u001b[0;34m.\u001b[0m\u001b[0mread_csv\u001b[0m\u001b[0;34m(\u001b[0m\u001b[0;34m\"ingredient2006.csv\"\u001b[0m\u001b[0;34m)\u001b[0m\u001b[0;34m\u001b[0m\u001b[0;34m\u001b[0m\u001b[0m\n\u001b[0;32m----> 9\u001b[0;31m \u001b[0ming07\u001b[0m \u001b[0;34m=\u001b[0m \u001b[0mpd\u001b[0m\u001b[0;34m.\u001b[0m\u001b[0mread_csv\u001b[0m\u001b[0;34m(\u001b[0m\u001b[0;34m\"ingredient2007.csv\"\u001b[0m\u001b[0;34m)\u001b[0m\u001b[0;34m\u001b[0m\u001b[0;34m\u001b[0m\u001b[0m\n\u001b[0m\u001b[1;32m     10\u001b[0m \u001b[0ming08\u001b[0m \u001b[0;34m=\u001b[0m \u001b[0mpd\u001b[0m\u001b[0;34m.\u001b[0m\u001b[0mread_csv\u001b[0m\u001b[0;34m(\u001b[0m\u001b[0;34m\"ingredient2008.csv\"\u001b[0m\u001b[0;34m)\u001b[0m\u001b[0;34m\u001b[0m\u001b[0;34m\u001b[0m\u001b[0m\n\u001b[1;32m     11\u001b[0m \u001b[0ming09\u001b[0m \u001b[0;34m=\u001b[0m \u001b[0mpd\u001b[0m\u001b[0;34m.\u001b[0m\u001b[0mread_csv\u001b[0m\u001b[0;34m(\u001b[0m\u001b[0;34m\"ingredient2009.csv\"\u001b[0m\u001b[0;34m)\u001b[0m\u001b[0;34m\u001b[0m\u001b[0;34m\u001b[0m\u001b[0m\n",
      "\u001b[0;32m~/anaconda3/lib/python3.7/site-packages/pandas/io/parsers.py\u001b[0m in \u001b[0;36mparser_f\u001b[0;34m(filepath_or_buffer, sep, delimiter, header, names, index_col, usecols, squeeze, prefix, mangle_dupe_cols, dtype, engine, converters, true_values, false_values, skipinitialspace, skiprows, skipfooter, nrows, na_values, keep_default_na, na_filter, verbose, skip_blank_lines, parse_dates, infer_datetime_format, keep_date_col, date_parser, dayfirst, iterator, chunksize, compression, thousands, decimal, lineterminator, quotechar, quoting, doublequote, escapechar, comment, encoding, dialect, tupleize_cols, error_bad_lines, warn_bad_lines, delim_whitespace, low_memory, memory_map, float_precision)\u001b[0m\n\u001b[1;32m    700\u001b[0m                     skip_blank_lines=skip_blank_lines)\n\u001b[1;32m    701\u001b[0m \u001b[0;34m\u001b[0m\u001b[0m\n\u001b[0;32m--> 702\u001b[0;31m         \u001b[0;32mreturn\u001b[0m \u001b[0m_read\u001b[0m\u001b[0;34m(\u001b[0m\u001b[0mfilepath_or_buffer\u001b[0m\u001b[0;34m,\u001b[0m \u001b[0mkwds\u001b[0m\u001b[0;34m)\u001b[0m\u001b[0;34m\u001b[0m\u001b[0;34m\u001b[0m\u001b[0m\n\u001b[0m\u001b[1;32m    703\u001b[0m \u001b[0;34m\u001b[0m\u001b[0m\n\u001b[1;32m    704\u001b[0m     \u001b[0mparser_f\u001b[0m\u001b[0;34m.\u001b[0m\u001b[0m__name__\u001b[0m \u001b[0;34m=\u001b[0m \u001b[0mname\u001b[0m\u001b[0;34m\u001b[0m\u001b[0;34m\u001b[0m\u001b[0m\n",
      "\u001b[0;32m~/anaconda3/lib/python3.7/site-packages/pandas/io/parsers.py\u001b[0m in \u001b[0;36m_read\u001b[0;34m(filepath_or_buffer, kwds)\u001b[0m\n\u001b[1;32m    433\u001b[0m \u001b[0;34m\u001b[0m\u001b[0m\n\u001b[1;32m    434\u001b[0m     \u001b[0;32mtry\u001b[0m\u001b[0;34m:\u001b[0m\u001b[0;34m\u001b[0m\u001b[0;34m\u001b[0m\u001b[0m\n\u001b[0;32m--> 435\u001b[0;31m         \u001b[0mdata\u001b[0m \u001b[0;34m=\u001b[0m \u001b[0mparser\u001b[0m\u001b[0;34m.\u001b[0m\u001b[0mread\u001b[0m\u001b[0;34m(\u001b[0m\u001b[0mnrows\u001b[0m\u001b[0;34m)\u001b[0m\u001b[0;34m\u001b[0m\u001b[0;34m\u001b[0m\u001b[0m\n\u001b[0m\u001b[1;32m    436\u001b[0m     \u001b[0;32mfinally\u001b[0m\u001b[0;34m:\u001b[0m\u001b[0;34m\u001b[0m\u001b[0;34m\u001b[0m\u001b[0m\n\u001b[1;32m    437\u001b[0m         \u001b[0mparser\u001b[0m\u001b[0;34m.\u001b[0m\u001b[0mclose\u001b[0m\u001b[0;34m(\u001b[0m\u001b[0;34m)\u001b[0m\u001b[0;34m\u001b[0m\u001b[0;34m\u001b[0m\u001b[0m\n",
      "\u001b[0;32m~/anaconda3/lib/python3.7/site-packages/pandas/io/parsers.py\u001b[0m in \u001b[0;36mread\u001b[0;34m(self, nrows)\u001b[0m\n\u001b[1;32m   1137\u001b[0m     \u001b[0;32mdef\u001b[0m \u001b[0mread\u001b[0m\u001b[0;34m(\u001b[0m\u001b[0mself\u001b[0m\u001b[0;34m,\u001b[0m \u001b[0mnrows\u001b[0m\u001b[0;34m=\u001b[0m\u001b[0;32mNone\u001b[0m\u001b[0;34m)\u001b[0m\u001b[0;34m:\u001b[0m\u001b[0;34m\u001b[0m\u001b[0;34m\u001b[0m\u001b[0m\n\u001b[1;32m   1138\u001b[0m         \u001b[0mnrows\u001b[0m \u001b[0;34m=\u001b[0m \u001b[0m_validate_integer\u001b[0m\u001b[0;34m(\u001b[0m\u001b[0;34m'nrows'\u001b[0m\u001b[0;34m,\u001b[0m \u001b[0mnrows\u001b[0m\u001b[0;34m)\u001b[0m\u001b[0;34m\u001b[0m\u001b[0;34m\u001b[0m\u001b[0m\n\u001b[0;32m-> 1139\u001b[0;31m         \u001b[0mret\u001b[0m \u001b[0;34m=\u001b[0m \u001b[0mself\u001b[0m\u001b[0;34m.\u001b[0m\u001b[0m_engine\u001b[0m\u001b[0;34m.\u001b[0m\u001b[0mread\u001b[0m\u001b[0;34m(\u001b[0m\u001b[0mnrows\u001b[0m\u001b[0;34m)\u001b[0m\u001b[0;34m\u001b[0m\u001b[0;34m\u001b[0m\u001b[0m\n\u001b[0m\u001b[1;32m   1140\u001b[0m \u001b[0;34m\u001b[0m\u001b[0m\n\u001b[1;32m   1141\u001b[0m         \u001b[0;31m# May alter columns / col_dict\u001b[0m\u001b[0;34m\u001b[0m\u001b[0;34m\u001b[0m\u001b[0;34m\u001b[0m\u001b[0m\n",
      "\u001b[0;32m~/anaconda3/lib/python3.7/site-packages/pandas/io/parsers.py\u001b[0m in \u001b[0;36mread\u001b[0;34m(self, nrows)\u001b[0m\n\u001b[1;32m   1993\u001b[0m     \u001b[0;32mdef\u001b[0m \u001b[0mread\u001b[0m\u001b[0;34m(\u001b[0m\u001b[0mself\u001b[0m\u001b[0;34m,\u001b[0m \u001b[0mnrows\u001b[0m\u001b[0;34m=\u001b[0m\u001b[0;32mNone\u001b[0m\u001b[0;34m)\u001b[0m\u001b[0;34m:\u001b[0m\u001b[0;34m\u001b[0m\u001b[0;34m\u001b[0m\u001b[0m\n\u001b[1;32m   1994\u001b[0m         \u001b[0;32mtry\u001b[0m\u001b[0;34m:\u001b[0m\u001b[0;34m\u001b[0m\u001b[0;34m\u001b[0m\u001b[0m\n\u001b[0;32m-> 1995\u001b[0;31m             \u001b[0mdata\u001b[0m \u001b[0;34m=\u001b[0m \u001b[0mself\u001b[0m\u001b[0;34m.\u001b[0m\u001b[0m_reader\u001b[0m\u001b[0;34m.\u001b[0m\u001b[0mread\u001b[0m\u001b[0;34m(\u001b[0m\u001b[0mnrows\u001b[0m\u001b[0;34m)\u001b[0m\u001b[0;34m\u001b[0m\u001b[0;34m\u001b[0m\u001b[0m\n\u001b[0m\u001b[1;32m   1996\u001b[0m         \u001b[0;32mexcept\u001b[0m \u001b[0mStopIteration\u001b[0m\u001b[0;34m:\u001b[0m\u001b[0;34m\u001b[0m\u001b[0;34m\u001b[0m\u001b[0m\n\u001b[1;32m   1997\u001b[0m             \u001b[0;32mif\u001b[0m \u001b[0mself\u001b[0m\u001b[0;34m.\u001b[0m\u001b[0m_first_chunk\u001b[0m\u001b[0;34m:\u001b[0m\u001b[0;34m\u001b[0m\u001b[0;34m\u001b[0m\u001b[0m\n",
      "\u001b[0;32mpandas/_libs/parsers.pyx\u001b[0m in \u001b[0;36mpandas._libs.parsers.TextReader.read\u001b[0;34m()\u001b[0m\n",
      "\u001b[0;32mpandas/_libs/parsers.pyx\u001b[0m in \u001b[0;36mpandas._libs.parsers.TextReader._read_low_memory\u001b[0;34m()\u001b[0m\n",
      "\u001b[0;32mpandas/_libs/parsers.pyx\u001b[0m in \u001b[0;36mpandas._libs.parsers.TextReader._read_rows\u001b[0;34m()\u001b[0m\n",
      "\u001b[0;32mpandas/_libs/parsers.pyx\u001b[0m in \u001b[0;36mpandas._libs.parsers.TextReader._tokenize_rows\u001b[0;34m()\u001b[0m\n",
      "\u001b[0;32mpandas/_libs/parsers.pyx\u001b[0m in \u001b[0;36mpandas._libs.parsers.raise_parser_error\u001b[0;34m()\u001b[0m\n",
      "\u001b[0;31mParserError\u001b[0m: Error tokenizing data. C error: Expected 3 fields in line 599269, saw 5\n"
     ]
    }
   ],
   "source": [
    "ing99 = pd.read_csv(\"ingredient1999.csv\")\n",
    "ing00 = pd.read_csv(\"ingredient2000.csv\")\n",
    "ing01 = pd.read_csv(\"ingredient2001.csv\")\n",
    "ing02 = pd.read_csv(\"ingredient2002.csv\")\n",
    "ing03 = pd.read_csv(\"ingredient2003.csv\")\n",
    "ing04 = pd.read_csv(\"ingredient2004.csv\")\n",
    "ing05 = pd.read_csv(\"ingredient2005.csv\")\n",
    "ing06 = pd.read_csv(\"ingredient2006.csv\")\n",
    "ing07 = pd.read_csv(\"ingredient2007.csv\")\n",
    "ing08 = pd.read_csv(\"ingredient2008.csv\")\n",
    "ing09 = pd.read_csv(\"ingredient2009.csv\")\n",
    "ing10 = pd.read_csv(\"ingredient2010.csv\")\n",
    "ing11 = pd.read_csv(\"ingredient2011.csv\")\n",
    "ing12 = pd.read_csv(\"ingredient2012.csv\")\n",
    "ing13 = pd.read_csv(\"ingredient2013.csv\")\n",
    "ing14 = pd.read_csv(\"ingredient2014.csv\")"
   ]
  },
  {
   "cell_type": "code",
   "execution_count": 15,
   "metadata": {},
   "outputs": [],
   "source": [
    "col_name = ['ID', '食材', 'コメント', '予備1','予備2']"
   ]
  },
  {
   "cell_type": "code",
   "execution_count": 16,
   "metadata": {},
   "outputs": [
    {
     "name": "stdout",
     "output_type": "stream",
     "text": [
      "['ID', '食材', 'コメント', '予備1', '予備2']\n"
     ]
    }
   ],
   "source": [
    "print(col_name)"
   ]
  },
  {
   "cell_type": "code",
   "execution_count": 17,
   "metadata": {},
   "outputs": [],
   "source": [
    "ing98 = pd.read_csv(\"ingredient1998.csv\",names = col_name)"
   ]
  },
  {
   "cell_type": "code",
   "execution_count": 19,
   "metadata": {},
   "outputs": [
    {
     "name": "stderr",
     "output_type": "stream",
     "text": [
      "/Users/furutasatoru/anaconda3/lib/python3.7/site-packages/IPython/core/interactiveshell.py:3049: DtypeWarning: Columns (3,4) have mixed types. Specify dtype option on import or set low_memory=False.\n",
      "  interactivity=interactivity, compiler=compiler, result=result)\n",
      "/Users/furutasatoru/anaconda3/lib/python3.7/site-packages/IPython/core/interactiveshell.py:3049: DtypeWarning: Columns (3) have mixed types. Specify dtype option on import or set low_memory=False.\n",
      "  interactivity=interactivity, compiler=compiler, result=result)\n"
     ]
    }
   ],
   "source": [
    "ing99 = pd.read_csv(\"ingredient1999.csv\",names = col_name)\n",
    "ing00 = pd.read_csv(\"ingredient2000.csv\",names = col_name)\n",
    "ing01 = pd.read_csv(\"ingredient2001.csv\",names = col_name)\n",
    "ing02 = pd.read_csv(\"ingredient2002.csv\",names = col_name)\n",
    "ing03 = pd.read_csv(\"ingredient2003.csv\",names = col_name)\n",
    "ing04 = pd.read_csv(\"ingredient2004.csv\",names = col_name)\n",
    "ing05 = pd.read_csv(\"ingredient2005.csv\",names = col_name)\n",
    "ing06 = pd.read_csv(\"ingredient2006.csv\",names = col_name)\n",
    "ing07 = pd.read_csv(\"ingredient2007.csv\",names = col_name)\n",
    "ing08 = pd.read_csv(\"ingredient2008.csv\",names = col_name)\n",
    "ing09 = pd.read_csv(\"ingredient2009.csv\",names = col_name)\n",
    "ing10 = pd.read_csv(\"ingredient2010.csv\",names = col_name)\n",
    "ing11 = pd.read_csv(\"ingredient2011.csv\",names = col_name)\n",
    "ing12 = pd.read_csv(\"ingredient2012.csv\",names = col_name)\n",
    "ing13 = pd.read_csv(\"ingredient2013.csv\",names = col_name)\n",
    "ing14 = pd.read_csv(\"ingredient2014.csv\",names = col_name)"
   ]
  },
  {
   "cell_type": "code",
   "execution_count": 20,
   "metadata": {},
   "outputs": [
    {
     "name": "stderr",
     "output_type": "stream",
     "text": [
      "/Users/furutasatoru/anaconda3/lib/python3.7/site-packages/pandas/core/ops.py:1649: FutureWarning: elementwise comparison failed; returning scalar instead, but in the future will perform elementwise comparison\n",
      "  result = method(y)\n"
     ]
    }
   ],
   "source": [
    "ing98avo = (ing98 == 'アボカド')"
   ]
  },
  {
   "cell_type": "code",
   "execution_count": 21,
   "metadata": {},
   "outputs": [
    {
     "name": "stdout",
     "output_type": "stream",
     "text": [
      "ID      0\n",
      "食材      0\n",
      "コメント    0\n",
      "予備1     0\n",
      "予備2     0\n",
      "dtype: int64\n"
     ]
    }
   ],
   "source": [
    "print(ing98avo.sum())"
   ]
  },
  {
   "cell_type": "code",
   "execution_count": 22,
   "metadata": {},
   "outputs": [
    {
     "name": "stdout",
     "output_type": "stream",
     "text": [
      "ID      0\n",
      "食材      0\n",
      "コメント    0\n",
      "予備1     0\n",
      "予備2     0\n",
      "dtype: int64\n"
     ]
    }
   ],
   "source": [
    "ing99avo = (ing99 == 'アボカド')\n",
    "print(ing99avo.sum())"
   ]
  },
  {
   "cell_type": "code",
   "execution_count": 24,
   "metadata": {},
   "outputs": [
    {
     "name": "stdout",
     "output_type": "stream",
     "text": [
      "ID      0\n",
      "食材      9\n",
      "コメント    0\n",
      "予備1     0\n",
      "予備2     0\n",
      "dtype: int64\n"
     ]
    }
   ],
   "source": [
    "ing00avo = (ing00 == 'アボカド')\n",
    "print(ing00avo.sum())"
   ]
  },
  {
   "cell_type": "code",
   "execution_count": 25,
   "metadata": {},
   "outputs": [
    {
     "name": "stdout",
     "output_type": "stream",
     "text": [
      "ID       0\n",
      "食材      28\n",
      "コメント     0\n",
      "予備1      0\n",
      "予備2      0\n",
      "dtype: int64\n"
     ]
    }
   ],
   "source": [
    "ing01avo = (ing01 == 'アボカド')\n",
    "print(ing01avo.sum())"
   ]
  },
  {
   "cell_type": "code",
   "execution_count": 26,
   "metadata": {},
   "outputs": [
    {
     "name": "stdout",
     "output_type": "stream",
     "text": [
      "ID       0\n",
      "食材      60\n",
      "コメント     0\n",
      "予備1      0\n",
      "予備2      0\n",
      "dtype: int64\n"
     ]
    }
   ],
   "source": [
    "ing02avo = (ing02 == 'アボカド')\n",
    "print(ing02avo.sum())"
   ]
  },
  {
   "cell_type": "code",
   "execution_count": 27,
   "metadata": {},
   "outputs": [
    {
     "name": "stdout",
     "output_type": "stream",
     "text": [
      "ID        0\n",
      "食材      110\n",
      "コメント      0\n",
      "予備1       0\n",
      "予備2       0\n",
      "dtype: int64\n"
     ]
    }
   ],
   "source": [
    "ing03avo = (ing03 == 'アボカド')\n",
    "print(ing03avo.sum())"
   ]
  },
  {
   "cell_type": "code",
   "execution_count": 28,
   "metadata": {},
   "outputs": [
    {
     "name": "stdout",
     "output_type": "stream",
     "text": [
      "ID        0\n",
      "食材      131\n",
      "コメント      0\n",
      "予備1       0\n",
      "予備2       0\n",
      "dtype: int64\n"
     ]
    }
   ],
   "source": [
    "ing04avo = (ing04 == 'アボカド')\n",
    "print(ing04avo.sum())"
   ]
  },
  {
   "cell_type": "code",
   "execution_count": 29,
   "metadata": {},
   "outputs": [
    {
     "name": "stdout",
     "output_type": "stream",
     "text": [
      "ID        0\n",
      "食材      170\n",
      "コメント      0\n",
      "予備1       0\n",
      "予備2       0\n",
      "dtype: int64\n"
     ]
    }
   ],
   "source": [
    "ing05avo = (ing05 == 'アボカド')\n",
    "print(ing05avo.sum())"
   ]
  },
  {
   "cell_type": "code",
   "execution_count": 30,
   "metadata": {},
   "outputs": [
    {
     "name": "stdout",
     "output_type": "stream",
     "text": [
      "ID        0\n",
      "食材      367\n",
      "コメント      0\n",
      "予備1       0\n",
      "予備2       0\n",
      "dtype: int64\n"
     ]
    }
   ],
   "source": [
    "ing06avo = (ing06 == 'アボカド')\n",
    "print(ing06avo.sum())"
   ]
  },
  {
   "cell_type": "code",
   "execution_count": 31,
   "metadata": {},
   "outputs": [
    {
     "name": "stdout",
     "output_type": "stream",
     "text": [
      "ID        0\n",
      "食材      866\n",
      "コメント      0\n",
      "予備1       0\n",
      "予備2       0\n",
      "dtype: int64\n"
     ]
    }
   ],
   "source": [
    "ing07avo = (ing07 == 'アボカド')\n",
    "print(ing07avo.sum())"
   ]
  },
  {
   "cell_type": "code",
   "execution_count": 32,
   "metadata": {},
   "outputs": [
    {
     "name": "stdout",
     "output_type": "stream",
     "text": [
      "ID        0\n",
      "食材      972\n",
      "コメント      0\n",
      "予備1       0\n",
      "予備2       0\n",
      "dtype: int64\n"
     ]
    }
   ],
   "source": [
    "ing08avo = (ing08 == 'アボカド')\n",
    "print(ing08avo.sum())"
   ]
  },
  {
   "cell_type": "code",
   "execution_count": 36,
   "metadata": {},
   "outputs": [
    {
     "name": "stdout",
     "output_type": "stream",
     "text": [
      "ID         0\n",
      "食材      1454\n",
      "コメント       0\n",
      "予備1        0\n",
      "予備2        0\n",
      "dtype: int64\n"
     ]
    }
   ],
   "source": [
    "ing09avo = (ing09 == 'アボカド')\n",
    "print(ing09avo.sum())"
   ]
  },
  {
   "cell_type": "code",
   "execution_count": 37,
   "metadata": {},
   "outputs": [
    {
     "name": "stdout",
     "output_type": "stream",
     "text": [
      "ID         0\n",
      "食材      2219\n",
      "コメント       0\n",
      "予備1        0\n",
      "予備2        0\n",
      "dtype: int64\n"
     ]
    }
   ],
   "source": [
    "ing10avo = (ing10 == 'アボカド')\n",
    "print(ing10avo.sum())"
   ]
  },
  {
   "cell_type": "code",
   "execution_count": 38,
   "metadata": {},
   "outputs": [
    {
     "name": "stdout",
     "output_type": "stream",
     "text": [
      "ID         0\n",
      "食材      1675\n",
      "コメント       0\n",
      "予備1        0\n",
      "予備2        0\n",
      "dtype: int64\n"
     ]
    }
   ],
   "source": [
    "ing11avo = (ing11 == 'アボカド')\n",
    "print(ing11avo.sum())"
   ]
  },
  {
   "cell_type": "code",
   "execution_count": 39,
   "metadata": {},
   "outputs": [
    {
     "name": "stdout",
     "output_type": "stream",
     "text": [
      "ID         0\n",
      "食材      3155\n",
      "コメント       0\n",
      "予備1        0\n",
      "予備2        0\n",
      "dtype: int64\n"
     ]
    }
   ],
   "source": [
    "ing12avo = (ing12 == 'アボカド')\n",
    "print(ing12avo.sum())"
   ]
  },
  {
   "cell_type": "code",
   "execution_count": 40,
   "metadata": {},
   "outputs": [
    {
     "name": "stdout",
     "output_type": "stream",
     "text": [
      "ID         0\n",
      "食材      2991\n",
      "コメント       0\n",
      "予備1        0\n",
      "予備2        0\n",
      "dtype: int64\n"
     ]
    }
   ],
   "source": [
    "ing13avo = (ing13 == 'アボカド')\n",
    "print(ing13avo.sum())"
   ]
  },
  {
   "cell_type": "code",
   "execution_count": 41,
   "metadata": {},
   "outputs": [
    {
     "name": "stdout",
     "output_type": "stream",
     "text": [
      "ID         0\n",
      "食材      2503\n",
      "コメント       0\n",
      "予備1        0\n",
      "予備2        0\n",
      "dtype: int64\n"
     ]
    }
   ],
   "source": [
    "ing14avo = (ing14 == 'アボカド')\n",
    "print(ing14avo.sum())"
   ]
  },
  {
   "cell_type": "code",
   "execution_count": 42,
   "metadata": {},
   "outputs": [
    {
     "name": "stdout",
     "output_type": "stream",
     "text": [
      "ID        0\n",
      "食材      326\n",
      "コメント      0\n",
      "予備1       0\n",
      "予備2       0\n",
      "dtype: int64\n"
     ]
    }
   ],
   "source": [
    "ing14avo2 = (ing14 == 'アボガド')\n",
    "print(ing14avo2.sum())"
   ]
  },
  {
   "cell_type": "code",
   "execution_count": 44,
   "metadata": {},
   "outputs": [
    {
     "ename": "SyntaxError",
     "evalue": "unexpected EOF while parsing (<ipython-input-44-cf635d42f771>, line 1)",
     "output_type": "error",
     "traceback": [
      "\u001b[0;36m  File \u001b[0;32m\"<ipython-input-44-cf635d42f771>\"\u001b[0;36m, line \u001b[0;32m1\u001b[0m\n\u001b[0;31m    print(ing14avo.sum()[2]\u001b[0m\n\u001b[0m                           ^\u001b[0m\n\u001b[0;31mSyntaxError\u001b[0m\u001b[0;31m:\u001b[0m unexpected EOF while parsing\n"
     ]
    }
   ],
   "source": [
    "print(ing14avo.sum()[2]"
   ]
  },
  {
   "cell_type": "code",
   "execution_count": 45,
   "metadata": {},
   "outputs": [
    {
     "name": "stdout",
     "output_type": "stream",
     "text": [
      "0\n"
     ]
    }
   ],
   "source": [
    "print(ing14avo.sum()[2])"
   ]
  },
  {
   "cell_type": "code",
   "execution_count": 46,
   "metadata": {},
   "outputs": [
    {
     "name": "stdout",
     "output_type": "stream",
     "text": [
      "2503\n"
     ]
    }
   ],
   "source": [
    "print(ing14avo.sum()[1])"
   ]
  },
  {
   "cell_type": "code",
   "execution_count": 47,
   "metadata": {},
   "outputs": [
    {
     "ename": "SyntaxError",
     "evalue": "invalid syntax (<ipython-input-47-107d0d608705>, line 2)",
     "output_type": "error",
     "traceback": [
      "\u001b[0;36m  File \u001b[0;32m\"<ipython-input-47-107d0d608705>\"\u001b[0;36m, line \u001b[0;32m2\u001b[0m\n\u001b[0;31m    ing{}.format(i) = pd.read_csv(\"ingredient{}.csv\".format(i),names = col_name)\u001b[0m\n\u001b[0m       ^\u001b[0m\n\u001b[0;31mSyntaxError\u001b[0m\u001b[0;31m:\u001b[0m invalid syntax\n"
     ]
    }
   ],
   "source": [
    "for i in range(1998,2015):\n",
    "    ing{}.format(i) = pd.read_csv(\"ingredient{}.csv\".format(i),names = col_name)"
   ]
  },
  {
   "cell_type": "code",
   "execution_count": 48,
   "metadata": {},
   "outputs": [],
   "source": [
    "import numpy as np\n",
    "avocado = np.empty(0)"
   ]
  },
  {
   "cell_type": "code",
   "execution_count": 49,
   "metadata": {},
   "outputs": [
    {
     "name": "stdout",
     "output_type": "stream",
     "text": [
      "[]\n"
     ]
    }
   ],
   "source": [
    "print(avocado)"
   ]
  },
  {
   "cell_type": "code",
   "execution_count": 50,
   "metadata": {},
   "outputs": [],
   "source": [
    "avocado = np.append(avocado, [3])"
   ]
  },
  {
   "cell_type": "code",
   "execution_count": 51,
   "metadata": {},
   "outputs": [
    {
     "name": "stdout",
     "output_type": "stream",
     "text": [
      "[3.]\n"
     ]
    }
   ],
   "source": [
    "print(avocado)"
   ]
  },
  {
   "cell_type": "code",
   "execution_count": 52,
   "metadata": {},
   "outputs": [
    {
     "name": "stdout",
     "output_type": "stream",
     "text": [
      "2503\n",
      "[3.0 None]\n"
     ]
    }
   ],
   "source": [
    "avocado = np.append(avocado, print(ing14avo.sum()[1]))\n",
    "print(avocado)"
   ]
  },
  {
   "cell_type": "code",
   "execution_count": 53,
   "metadata": {},
   "outputs": [
    {
     "name": "stdout",
     "output_type": "stream",
     "text": [
      "[2503.]\n",
      "[2503. 2991.]\n"
     ]
    }
   ],
   "source": [
    "avocado = np.empty(0)\n",
    "avocado = np.append(avocado,[ing14avo.sum()[1]])\n",
    "print(avocado)\n",
    "avocado = np.append(avocado,[ing13avo.sum()[1]])\n",
    "print(avocado)"
   ]
  },
  {
   "cell_type": "code",
   "execution_count": 54,
   "metadata": {},
   "outputs": [
    {
     "ename": "SyntaxError",
     "evalue": "invalid syntax (<ipython-input-54-ff3dc03e67cf>, line 24)",
     "output_type": "error",
     "traceback": [
      "\u001b[0;36m  File \u001b[0;32m\"<ipython-input-54-ff3dc03e67cf>\"\u001b[0;36m, line \u001b[0;32m24\u001b[0m\n\u001b[0;31m    temp = (ing{}.format(i) == 'アボカド')\u001b[0m\n\u001b[0m               ^\u001b[0m\n\u001b[0;31mSyntaxError\u001b[0m\u001b[0;31m:\u001b[0m invalid syntax\n"
     ]
    }
   ],
   "source": [
    "import pandas as pd\n",
    "import numpy as np\n",
    "\n",
    "ing1998 = pd.read_csv(\"ingredient1998.csv\",names = col_name)\n",
    "ing1999 = pd.read_csv(\"ingredient1999.csv\",names = col_name)\n",
    "ing2000 = pd.read_csv(\"ingredient2000.csv\",names = col_name)\n",
    "ing2001 = pd.read_csv(\"ingredient2001.csv\",names = col_name)\n",
    "ing2002 = pd.read_csv(\"ingredient2002.csv\",names = col_name)\n",
    "ing2003 = pd.read_csv(\"ingredient2003.csv\",names = col_name)\n",
    "ing2004 = pd.read_csv(\"ingredient2004.csv\",names = col_name)\n",
    "ing2005 = pd.read_csv(\"ingredient2005.csv\",names = col_name)\n",
    "ing2006 = pd.read_csv(\"ingredient2006.csv\",names = col_name)\n",
    "ing2007 = pd.read_csv(\"ingredient2007.csv\",names = col_name)\n",
    "ing2008 = pd.read_csv(\"ingredient2008.csv\",names = col_name)\n",
    "ing2009 = pd.read_csv(\"ingredient2009.csv\",names = col_name)\n",
    "ing2010 = pd.read_csv(\"ingredient2010.csv\",names = col_name)\n",
    "ing2011 = pd.read_csv(\"ingredient2011.csv\",names = col_name)\n",
    "ing2012 = pd.read_csv(\"ingredient2012.csv\",names = col_name)\n",
    "ing2013 = pd.read_csv(\"ingredient2013.csv\",names = col_name)\n",
    "ing2014 = pd.read_csv(\"ingredient2014.csv\",names = col_name)\n",
    "\n",
    "avocado = np.empty(0)\n",
    "for i in range(1998,2015):\n",
    "    temp = (ing{}.format(i) == 'アボカド')\n",
    "    avocado = np.append(avocado,[temp.sum()[1]])\n",
    "print(avocado)    "
   ]
  },
  {
   "cell_type": "code",
   "execution_count": 56,
   "metadata": {},
   "outputs": [
    {
     "name": "stdout",
     "output_type": "stream",
     "text": [
      "[   0.    0.    9.   28.   60.  110.  131.  170.  367.  866.  972. 1454.\n",
      " 2219. 1675. 3155. 2991. 2503.]\n"
     ]
    }
   ],
   "source": [
    "import pandas as pd\n",
    "import numpy as np\n",
    "\n",
    "col_name = ['ID', '食材', 'コメント', '予備1','予備2']\n",
    "\n",
    "avocado = np.empty(0)\n",
    "for i in range(1998,2015):\n",
    "    templist = pd.read_csv(\"ingredient{}.csv\".format(i) ,names = col_name)\n",
    "    tempseq = (templist == 'アボカド')\n",
    "    avocado = np.append(avocado,[tempseq.sum()[1]])\n",
    "print(avocado)"
   ]
  },
  {
   "cell_type": "code",
   "execution_count": 1,
   "metadata": {},
   "outputs": [
    {
     "ename": "NameError",
     "evalue": "name 'head' is not defined",
     "output_type": "error",
     "traceback": [
      "\u001b[0;31m---------------------------------------------------------------------------\u001b[0m",
      "\u001b[0;31mNameError\u001b[0m                                 Traceback (most recent call last)",
      "\u001b[0;32m<ipython-input-1-54afbcc61bd7>\u001b[0m in \u001b[0;36m<module>\u001b[0;34m\u001b[0m\n\u001b[0;32m----> 1\u001b[0;31m \u001b[0mhead\u001b[0m\u001b[0;34m(\u001b[0m\u001b[0ming1998\u001b[0m\u001b[0;34m)\u001b[0m\u001b[0;34m\u001b[0m\u001b[0;34m\u001b[0m\u001b[0m\n\u001b[0m",
      "\u001b[0;31mNameError\u001b[0m: name 'head' is not defined"
     ]
    }
   ],
   "source": [
    "head(ing1998)"
   ]
  },
  {
   "cell_type": "code",
   "execution_count": 2,
   "metadata": {},
   "outputs": [
    {
     "ename": "NameError",
     "evalue": "name 'ing1998' is not defined",
     "output_type": "error",
     "traceback": [
      "\u001b[0;31m---------------------------------------------------------------------------\u001b[0m",
      "\u001b[0;31mNameError\u001b[0m                                 Traceback (most recent call last)",
      "\u001b[0;32m<ipython-input-2-584c7f4fc03a>\u001b[0m in \u001b[0;36m<module>\u001b[0;34m\u001b[0m\n\u001b[0;32m----> 1\u001b[0;31m \u001b[0ming1998\u001b[0m\u001b[0;34m.\u001b[0m\u001b[0mhead\u001b[0m\u001b[0;34m(\u001b[0m\u001b[0;34m)\u001b[0m\u001b[0;34m\u001b[0m\u001b[0;34m\u001b[0m\u001b[0m\n\u001b[0m",
      "\u001b[0;31mNameError\u001b[0m: name 'ing1998' is not defined"
     ]
    }
   ],
   "source": [
    "ing1998.head()"
   ]
  },
  {
   "cell_type": "code",
   "execution_count": 3,
   "metadata": {},
   "outputs": [
    {
     "ename": "FileNotFoundError",
     "evalue": "[Errno 2] File b'ingredient1998.csv' does not exist: b'ingredient1998.csv'",
     "output_type": "error",
     "traceback": [
      "\u001b[0;31m---------------------------------------------------------------------------\u001b[0m",
      "\u001b[0;31mFileNotFoundError\u001b[0m                         Traceback (most recent call last)",
      "\u001b[0;32m<ipython-input-3-bebd105c1cbb>\u001b[0m in \u001b[0;36m<module>\u001b[0;34m\u001b[0m\n\u001b[1;32m      2\u001b[0m \u001b[0;34m\u001b[0m\u001b[0m\n\u001b[1;32m      3\u001b[0m \u001b[0mcol_name\u001b[0m \u001b[0;34m=\u001b[0m \u001b[0;34m[\u001b[0m\u001b[0;34m'ID'\u001b[0m\u001b[0;34m,\u001b[0m \u001b[0;34m'食材'\u001b[0m\u001b[0;34m,\u001b[0m \u001b[0;34m'コメント'\u001b[0m\u001b[0;34m,\u001b[0m \u001b[0;34m'予備1'\u001b[0m\u001b[0;34m,\u001b[0m\u001b[0;34m'予備2'\u001b[0m\u001b[0;34m]\u001b[0m\u001b[0;34m\u001b[0m\u001b[0;34m\u001b[0m\u001b[0m\n\u001b[0;32m----> 4\u001b[0;31m \u001b[0ming1998\u001b[0m \u001b[0;34m=\u001b[0m \u001b[0mpd\u001b[0m\u001b[0;34m.\u001b[0m\u001b[0mread_csv\u001b[0m\u001b[0;34m(\u001b[0m\u001b[0;34m\"ingredient1998.csv\"\u001b[0m\u001b[0;34m,\u001b[0m\u001b[0mnames\u001b[0m \u001b[0;34m=\u001b[0m \u001b[0mcol_name\u001b[0m\u001b[0;34m)\u001b[0m\u001b[0;34m\u001b[0m\u001b[0;34m\u001b[0m\u001b[0m\n\u001b[0m\u001b[1;32m      5\u001b[0m \u001b[0ming1998\u001b[0m\u001b[0;34m.\u001b[0m\u001b[0mhead\u001b[0m\u001b[0;34m(\u001b[0m\u001b[0;34m)\u001b[0m\u001b[0;34m\u001b[0m\u001b[0;34m\u001b[0m\u001b[0m\n",
      "\u001b[0;32m~/anaconda3/lib/python3.7/site-packages/pandas/io/parsers.py\u001b[0m in \u001b[0;36mparser_f\u001b[0;34m(filepath_or_buffer, sep, delimiter, header, names, index_col, usecols, squeeze, prefix, mangle_dupe_cols, dtype, engine, converters, true_values, false_values, skipinitialspace, skiprows, skipfooter, nrows, na_values, keep_default_na, na_filter, verbose, skip_blank_lines, parse_dates, infer_datetime_format, keep_date_col, date_parser, dayfirst, iterator, chunksize, compression, thousands, decimal, lineterminator, quotechar, quoting, doublequote, escapechar, comment, encoding, dialect, tupleize_cols, error_bad_lines, warn_bad_lines, delim_whitespace, low_memory, memory_map, float_precision)\u001b[0m\n\u001b[1;32m    700\u001b[0m                     skip_blank_lines=skip_blank_lines)\n\u001b[1;32m    701\u001b[0m \u001b[0;34m\u001b[0m\u001b[0m\n\u001b[0;32m--> 702\u001b[0;31m         \u001b[0;32mreturn\u001b[0m \u001b[0m_read\u001b[0m\u001b[0;34m(\u001b[0m\u001b[0mfilepath_or_buffer\u001b[0m\u001b[0;34m,\u001b[0m \u001b[0mkwds\u001b[0m\u001b[0;34m)\u001b[0m\u001b[0;34m\u001b[0m\u001b[0;34m\u001b[0m\u001b[0m\n\u001b[0m\u001b[1;32m    703\u001b[0m \u001b[0;34m\u001b[0m\u001b[0m\n\u001b[1;32m    704\u001b[0m     \u001b[0mparser_f\u001b[0m\u001b[0;34m.\u001b[0m\u001b[0m__name__\u001b[0m \u001b[0;34m=\u001b[0m \u001b[0mname\u001b[0m\u001b[0;34m\u001b[0m\u001b[0;34m\u001b[0m\u001b[0m\n",
      "\u001b[0;32m~/anaconda3/lib/python3.7/site-packages/pandas/io/parsers.py\u001b[0m in \u001b[0;36m_read\u001b[0;34m(filepath_or_buffer, kwds)\u001b[0m\n\u001b[1;32m    427\u001b[0m \u001b[0;34m\u001b[0m\u001b[0m\n\u001b[1;32m    428\u001b[0m     \u001b[0;31m# Create the parser.\u001b[0m\u001b[0;34m\u001b[0m\u001b[0;34m\u001b[0m\u001b[0;34m\u001b[0m\u001b[0m\n\u001b[0;32m--> 429\u001b[0;31m     \u001b[0mparser\u001b[0m \u001b[0;34m=\u001b[0m \u001b[0mTextFileReader\u001b[0m\u001b[0;34m(\u001b[0m\u001b[0mfilepath_or_buffer\u001b[0m\u001b[0;34m,\u001b[0m \u001b[0;34m**\u001b[0m\u001b[0mkwds\u001b[0m\u001b[0;34m)\u001b[0m\u001b[0;34m\u001b[0m\u001b[0;34m\u001b[0m\u001b[0m\n\u001b[0m\u001b[1;32m    430\u001b[0m \u001b[0;34m\u001b[0m\u001b[0m\n\u001b[1;32m    431\u001b[0m     \u001b[0;32mif\u001b[0m \u001b[0mchunksize\u001b[0m \u001b[0;32mor\u001b[0m \u001b[0miterator\u001b[0m\u001b[0;34m:\u001b[0m\u001b[0;34m\u001b[0m\u001b[0;34m\u001b[0m\u001b[0m\n",
      "\u001b[0;32m~/anaconda3/lib/python3.7/site-packages/pandas/io/parsers.py\u001b[0m in \u001b[0;36m__init__\u001b[0;34m(self, f, engine, **kwds)\u001b[0m\n\u001b[1;32m    893\u001b[0m             \u001b[0mself\u001b[0m\u001b[0;34m.\u001b[0m\u001b[0moptions\u001b[0m\u001b[0;34m[\u001b[0m\u001b[0;34m'has_index_names'\u001b[0m\u001b[0;34m]\u001b[0m \u001b[0;34m=\u001b[0m \u001b[0mkwds\u001b[0m\u001b[0;34m[\u001b[0m\u001b[0;34m'has_index_names'\u001b[0m\u001b[0;34m]\u001b[0m\u001b[0;34m\u001b[0m\u001b[0;34m\u001b[0m\u001b[0m\n\u001b[1;32m    894\u001b[0m \u001b[0;34m\u001b[0m\u001b[0m\n\u001b[0;32m--> 895\u001b[0;31m         \u001b[0mself\u001b[0m\u001b[0;34m.\u001b[0m\u001b[0m_make_engine\u001b[0m\u001b[0;34m(\u001b[0m\u001b[0mself\u001b[0m\u001b[0;34m.\u001b[0m\u001b[0mengine\u001b[0m\u001b[0;34m)\u001b[0m\u001b[0;34m\u001b[0m\u001b[0;34m\u001b[0m\u001b[0m\n\u001b[0m\u001b[1;32m    896\u001b[0m \u001b[0;34m\u001b[0m\u001b[0m\n\u001b[1;32m    897\u001b[0m     \u001b[0;32mdef\u001b[0m \u001b[0mclose\u001b[0m\u001b[0;34m(\u001b[0m\u001b[0mself\u001b[0m\u001b[0;34m)\u001b[0m\u001b[0;34m:\u001b[0m\u001b[0;34m\u001b[0m\u001b[0;34m\u001b[0m\u001b[0m\n",
      "\u001b[0;32m~/anaconda3/lib/python3.7/site-packages/pandas/io/parsers.py\u001b[0m in \u001b[0;36m_make_engine\u001b[0;34m(self, engine)\u001b[0m\n\u001b[1;32m   1120\u001b[0m     \u001b[0;32mdef\u001b[0m \u001b[0m_make_engine\u001b[0m\u001b[0;34m(\u001b[0m\u001b[0mself\u001b[0m\u001b[0;34m,\u001b[0m \u001b[0mengine\u001b[0m\u001b[0;34m=\u001b[0m\u001b[0;34m'c'\u001b[0m\u001b[0;34m)\u001b[0m\u001b[0;34m:\u001b[0m\u001b[0;34m\u001b[0m\u001b[0;34m\u001b[0m\u001b[0m\n\u001b[1;32m   1121\u001b[0m         \u001b[0;32mif\u001b[0m \u001b[0mengine\u001b[0m \u001b[0;34m==\u001b[0m \u001b[0;34m'c'\u001b[0m\u001b[0;34m:\u001b[0m\u001b[0;34m\u001b[0m\u001b[0;34m\u001b[0m\u001b[0m\n\u001b[0;32m-> 1122\u001b[0;31m             \u001b[0mself\u001b[0m\u001b[0;34m.\u001b[0m\u001b[0m_engine\u001b[0m \u001b[0;34m=\u001b[0m \u001b[0mCParserWrapper\u001b[0m\u001b[0;34m(\u001b[0m\u001b[0mself\u001b[0m\u001b[0;34m.\u001b[0m\u001b[0mf\u001b[0m\u001b[0;34m,\u001b[0m \u001b[0;34m**\u001b[0m\u001b[0mself\u001b[0m\u001b[0;34m.\u001b[0m\u001b[0moptions\u001b[0m\u001b[0;34m)\u001b[0m\u001b[0;34m\u001b[0m\u001b[0;34m\u001b[0m\u001b[0m\n\u001b[0m\u001b[1;32m   1123\u001b[0m         \u001b[0;32melse\u001b[0m\u001b[0;34m:\u001b[0m\u001b[0;34m\u001b[0m\u001b[0;34m\u001b[0m\u001b[0m\n\u001b[1;32m   1124\u001b[0m             \u001b[0;32mif\u001b[0m \u001b[0mengine\u001b[0m \u001b[0;34m==\u001b[0m \u001b[0;34m'python'\u001b[0m\u001b[0;34m:\u001b[0m\u001b[0;34m\u001b[0m\u001b[0;34m\u001b[0m\u001b[0m\n",
      "\u001b[0;32m~/anaconda3/lib/python3.7/site-packages/pandas/io/parsers.py\u001b[0m in \u001b[0;36m__init__\u001b[0;34m(self, src, **kwds)\u001b[0m\n\u001b[1;32m   1851\u001b[0m         \u001b[0mkwds\u001b[0m\u001b[0;34m[\u001b[0m\u001b[0;34m'usecols'\u001b[0m\u001b[0;34m]\u001b[0m \u001b[0;34m=\u001b[0m \u001b[0mself\u001b[0m\u001b[0;34m.\u001b[0m\u001b[0musecols\u001b[0m\u001b[0;34m\u001b[0m\u001b[0;34m\u001b[0m\u001b[0m\n\u001b[1;32m   1852\u001b[0m \u001b[0;34m\u001b[0m\u001b[0m\n\u001b[0;32m-> 1853\u001b[0;31m         \u001b[0mself\u001b[0m\u001b[0;34m.\u001b[0m\u001b[0m_reader\u001b[0m \u001b[0;34m=\u001b[0m \u001b[0mparsers\u001b[0m\u001b[0;34m.\u001b[0m\u001b[0mTextReader\u001b[0m\u001b[0;34m(\u001b[0m\u001b[0msrc\u001b[0m\u001b[0;34m,\u001b[0m \u001b[0;34m**\u001b[0m\u001b[0mkwds\u001b[0m\u001b[0;34m)\u001b[0m\u001b[0;34m\u001b[0m\u001b[0;34m\u001b[0m\u001b[0m\n\u001b[0m\u001b[1;32m   1854\u001b[0m         \u001b[0mself\u001b[0m\u001b[0;34m.\u001b[0m\u001b[0munnamed_cols\u001b[0m \u001b[0;34m=\u001b[0m \u001b[0mself\u001b[0m\u001b[0;34m.\u001b[0m\u001b[0m_reader\u001b[0m\u001b[0;34m.\u001b[0m\u001b[0munnamed_cols\u001b[0m\u001b[0;34m\u001b[0m\u001b[0;34m\u001b[0m\u001b[0m\n\u001b[1;32m   1855\u001b[0m \u001b[0;34m\u001b[0m\u001b[0m\n",
      "\u001b[0;32mpandas/_libs/parsers.pyx\u001b[0m in \u001b[0;36mpandas._libs.parsers.TextReader.__cinit__\u001b[0;34m()\u001b[0m\n",
      "\u001b[0;32mpandas/_libs/parsers.pyx\u001b[0m in \u001b[0;36mpandas._libs.parsers.TextReader._setup_parser_source\u001b[0;34m()\u001b[0m\n",
      "\u001b[0;31mFileNotFoundError\u001b[0m: [Errno 2] File b'ingredient1998.csv' does not exist: b'ingredient1998.csv'"
     ]
    }
   ],
   "source": [
    "import pandas as pd\n",
    "\n",
    "col_name = ['ID', '食材', 'コメント', '予備1','予備2']\n",
    "ing1998 = pd.read_csv(\"ingredient1998.csv\",names = col_name)\n",
    "ing1998.head()"
   ]
  },
  {
   "cell_type": "code",
   "execution_count": 4,
   "metadata": {},
   "outputs": [],
   "source": [
    "import os\n",
    "os.chdir('/Users/furutasatoru/Documents/大学/シス創/大規模データ分析/ingredient')"
   ]
  },
  {
   "cell_type": "code",
   "execution_count": 5,
   "metadata": {},
   "outputs": [
    {
     "data": {
      "text/html": [
       "<div>\n",
       "<style scoped>\n",
       "    .dataframe tbody tr th:only-of-type {\n",
       "        vertical-align: middle;\n",
       "    }\n",
       "\n",
       "    .dataframe tbody tr th {\n",
       "        vertical-align: top;\n",
       "    }\n",
       "\n",
       "    .dataframe thead th {\n",
       "        text-align: right;\n",
       "    }\n",
       "</style>\n",
       "<table border=\"1\" class=\"dataframe\">\n",
       "  <thead>\n",
       "    <tr style=\"text-align: right;\">\n",
       "      <th></th>\n",
       "      <th>ID</th>\n",
       "      <th>食材</th>\n",
       "      <th>コメント</th>\n",
       "      <th>予備1</th>\n",
       "      <th>予備2</th>\n",
       "    </tr>\n",
       "  </thead>\n",
       "  <tbody>\n",
       "    <tr>\n",
       "      <th>0</th>\n",
       "      <td>030833ed4e8dab3aa1e9d75edc1681efb368434f</td>\n",
       "      <td>スライスチーズ</td>\n",
       "      <td>4枚（スイスのグリュイエルチーズがおすすめ）</td>\n",
       "      <td>NaN</td>\n",
       "      <td>NaN</td>\n",
       "    </tr>\n",
       "    <tr>\n",
       "      <th>1</th>\n",
       "      <td>030833ed4e8dab3aa1e9d75edc1681efb368434f</td>\n",
       "      <td>チキンブイヨン</td>\n",
       "      <td>1片</td>\n",
       "      <td>NaN</td>\n",
       "      <td>NaN</td>\n",
       "    </tr>\n",
       "    <tr>\n",
       "      <th>2</th>\n",
       "      <td>030833ed4e8dab3aa1e9d75edc1681efb368434f</td>\n",
       "      <td>白米</td>\n",
       "      <td>1.5カップくらい？</td>\n",
       "      <td>NaN</td>\n",
       "      <td>NaN</td>\n",
       "    </tr>\n",
       "    <tr>\n",
       "      <th>3</th>\n",
       "      <td>04324210352066234d6eb43866b34695cb541d31</td>\n",
       "      <td>鮭</td>\n",
       "      <td>一匹(キングサーモンでも可）</td>\n",
       "      <td>NaN</td>\n",
       "      <td>NaN</td>\n",
       "    </tr>\n",
       "    <tr>\n",
       "      <th>4</th>\n",
       "      <td>04324210352066234d6eb43866b34695cb541d31</td>\n",
       "      <td>たまねぎ</td>\n",
       "      <td>１/４個</td>\n",
       "      <td>NaN</td>\n",
       "      <td>NaN</td>\n",
       "    </tr>\n",
       "  </tbody>\n",
       "</table>\n",
       "</div>"
      ],
      "text/plain": [
       "                                         ID       食材                    コメント  \\\n",
       "0  030833ed4e8dab3aa1e9d75edc1681efb368434f  スライスチーズ  4枚（スイスのグリュイエルチーズがおすすめ）   \n",
       "1  030833ed4e8dab3aa1e9d75edc1681efb368434f  チキンブイヨン                      1片   \n",
       "2  030833ed4e8dab3aa1e9d75edc1681efb368434f       白米              1.5カップくらい？   \n",
       "3  04324210352066234d6eb43866b34695cb541d31        鮭          一匹(キングサーモンでも可）   \n",
       "4  04324210352066234d6eb43866b34695cb541d31     たまねぎ                    １/４個   \n",
       "\n",
       "   予備1  予備2  \n",
       "0  NaN  NaN  \n",
       "1  NaN  NaN  \n",
       "2  NaN  NaN  \n",
       "3  NaN  NaN  \n",
       "4  NaN  NaN  "
      ]
     },
     "execution_count": 5,
     "metadata": {},
     "output_type": "execute_result"
    }
   ],
   "source": [
    "import pandas as pd\n",
    "\n",
    "col_name = ['ID', '食材', 'コメント', '予備1','予備2']\n",
    "ing1998 = pd.read_csv(\"ingredient1998.csv\",names = col_name)\n",
    "ing1998.head()"
   ]
  },
  {
   "cell_type": "code",
   "execution_count": 6,
   "metadata": {},
   "outputs": [],
   "source": [
    "inglist = [pd.read_csv(\"ingredient1998.csv\",names = col_name), pd.read_csv(\"ingredient1999.csv\",names = col_name)]"
   ]
  },
  {
   "cell_type": "code",
   "execution_count": 7,
   "metadata": {},
   "outputs": [
    {
     "data": {
      "text/plain": [
       "<bound method NDFrame.head of                                            ID           食材  \\\n",
       "0    030833ed4e8dab3aa1e9d75edc1681efb368434f      スライスチーズ   \n",
       "1    030833ed4e8dab3aa1e9d75edc1681efb368434f      チキンブイヨン   \n",
       "2    030833ed4e8dab3aa1e9d75edc1681efb368434f           白米   \n",
       "3    04324210352066234d6eb43866b34695cb541d31            鮭   \n",
       "4    04324210352066234d6eb43866b34695cb541d31         たまねぎ   \n",
       "5    04324210352066234d6eb43866b34695cb541d31          しめじ   \n",
       "6    04324210352066234d6eb43866b34695cb541d31         白ワイン   \n",
       "7    04324210352066234d6eb43866b34695cb541d31      オリーブオイル   \n",
       "8    04324210352066234d6eb43866b34695cb541d31          ハーブ   \n",
       "9    04324210352066234d6eb43866b34695cb541d31          バター   \n",
       "10   04324210352066234d6eb43866b34695cb541d31         レモン汁   \n",
       "11   04324210352066234d6eb43866b34695cb541d31       アルミホイル   \n",
       "12   10ba7960f7fbb088ec7f3b79467a2db269662f4c           牛乳   \n",
       "13   10ba7960f7fbb088ec7f3b79467a2db269662f4c        生クリーム   \n",
       "14   10ba7960f7fbb088ec7f3b79467a2db269662f4c       グランマニエ   \n",
       "15   10ba7960f7fbb088ec7f3b79467a2db269662f4c           砂糖   \n",
       "16   10ba7960f7fbb088ec7f3b79467a2db269662f4c          バター   \n",
       "17   10ba7960f7fbb088ec7f3b79467a2db269662f4c         はちみつ   \n",
       "18   10ba7960f7fbb088ec7f3b79467a2db269662f4c  ココア（バンホーテン）   \n",
       "19   12d462eae4db630ea5280380ebc99da3318080ae          よもぎ   \n",
       "20   12d462eae4db630ea5280380ebc99da3318080ae            塩   \n",
       "21   12d462eae4db630ea5280380ebc99da3318080ae    上新粉(お米の粉）   \n",
       "22   12d462eae4db630ea5280380ebc99da3318080ae           熱湯   \n",
       "23   12d462eae4db630ea5280380ebc99da3318080ae          あんこ   \n",
       "24   23ffd9fbfa106002b496d215641d04ac8914b018         にんじん   \n",
       "25   23ffd9fbfa106002b496d215641d04ac8914b018          レモン   \n",
       "26   23ffd9fbfa106002b496d215641d04ac8914b018         亜麻仁油   \n",
       "27   23ffd9fbfa106002b496d215641d04ac8914b018         レーズン   \n",
       "28   28e1959dc6e11557c12b52fbb0a74293b10bfb01            卵   \n",
       "29   28e1959dc6e11557c12b52fbb0a74293b10bfb01       サラダオイル   \n",
       "..                                        ...          ...   \n",
       "288  e29f26c2e6e1bb1c58a2d6f0fc0a6a7fed2c080d            塩   \n",
       "289  e29f26c2e6e1bb1c58a2d6f0fc0a6a7fed2c080d          バジル   \n",
       "290  e29f26c2e6e1bb1c58a2d6f0fc0a6a7fed2c080d          バター   \n",
       "291  e29f26c2e6e1bb1c58a2d6f0fc0a6a7fed2c080d      とろけるチーズ   \n",
       "292  e73cf4d2de252ffd9a6ba0080ff77ffb9d6fe557          タイ米   \n",
       "293  e73cf4d2de252ffd9a6ba0080ff77ffb9d6fe557        ブリトの皮   \n",
       "294  e73cf4d2de252ffd9a6ba0080ff77ffb9d6fe557    リフライドビーンズ   \n",
       "295  e73cf4d2de252ffd9a6ba0080ff77ffb9d6fe557           牛肉   \n",
       "296  e73cf4d2de252ffd9a6ba0080ff77ffb9d6fe557      サワークリーム   \n",
       "297  e73cf4d2de252ffd9a6ba0080ff77ffb9d6fe557      スライスチーズ   \n",
       "298  e73cf4d2de252ffd9a6ba0080ff77ffb9d6fe557         生トマト   \n",
       "299  e73cf4d2de252ffd9a6ba0080ff77ffb9d6fe557          亀虫草   \n",
       "300  e73cf4d2de252ffd9a6ba0080ff77ffb9d6fe557         たまねぎ   \n",
       "301  e73cf4d2de252ffd9a6ba0080ff77ffb9d6fe557          レタス   \n",
       "302  e73cf4d2de252ffd9a6ba0080ff77ffb9d6fe557       サラサソース   \n",
       "303  e73cf4d2de252ffd9a6ba0080ff77ffb9d6fe557       ブリトソース   \n",
       "304  ed4f81e0a05c77c078bd0b6a1c687f41452f2116        鯖（さば）   \n",
       "305  ed4f81e0a05c77c078bd0b6a1c687f41452f2116         しょうが   \n",
       "306  ed4f81e0a05c77c078bd0b6a1c687f41452f2116          赤味噌   \n",
       "307  ed4f81e0a05c77c078bd0b6a1c687f41452f2116           砂糖   \n",
       "308  ed4f81e0a05c77c078bd0b6a1c687f41452f2116           醤油   \n",
       "309  ed4f81e0a05c77c078bd0b6a1c687f41452f2116          だし汁   \n",
       "310  fa327f045f3195d52e5d9ad3f06b30f2d316c89b         バゲット   \n",
       "311  fa327f045f3195d52e5d9ad3f06b30f2d316c89b            卵   \n",
       "312  fa327f045f3195d52e5d9ad3f06b30f2d316c89b           牛乳   \n",
       "313  fa327f045f3195d52e5d9ad3f06b30f2d316c89b        生クリーム   \n",
       "314  fa327f045f3195d52e5d9ad3f06b30f2d316c89b         コーヒー   \n",
       "315  fa327f045f3195d52e5d9ad3f06b30f2d316c89b         シナモン   \n",
       "316  fa327f045f3195d52e5d9ad3f06b30f2d316c89b     メープルシロップ   \n",
       "317  fa327f045f3195d52e5d9ad3f06b30f2d316c89b         はちみつ   \n",
       "\n",
       "                          コメント  予備1  予備2  \n",
       "0       4枚（スイスのグリュイエルチーズがおすすめ）  NaN  NaN  \n",
       "1                           1片  NaN  NaN  \n",
       "2                   1.5カップくらい？  NaN  NaN  \n",
       "3               一匹(キングサーモンでも可）  NaN  NaN  \n",
       "4                         １/４個  NaN  NaN  \n",
       "5                       １/４パック  NaN  NaN  \n",
       "6                           大２  NaN  NaN  \n",
       "7                         たっぷり  NaN  NaN  \n",
       "8    バジル・タイム・ローズマリーなど(生でも乾燥でも）  NaN  NaN  \n",
       "9                           適当  NaN  NaN  \n",
       "10                        お好みで  NaN  NaN  \n",
       "11                     魚が包める程度  NaN  NaN  \n",
       "12                       ８００ｃｃ  NaN  NaN  \n",
       "13                          適当  NaN  NaN  \n",
       "14              大さじ ３(好きな人は沢山）  NaN  NaN  \n",
       "15                 ２５ｇ(グラニュー糖）  NaN  NaN  \n",
       "16                        お好みで  NaN  NaN  \n",
       "17                       大さじ ３  NaN  NaN  \n",
       "18                         ５０ｇ  NaN  NaN  \n",
       "19            ２０×１５cmビニール袋(一杯)  NaN  NaN  \n",
       "20                        一つまみ  NaN  NaN  \n",
       "21                        ５００ｇ  NaN  NaN  \n",
       "22                       ５００ｃｃ  NaN  NaN  \n",
       "23        250g（もちろん小豆から作ってもよい）  NaN  NaN  \n",
       "24                          2本  NaN  NaN  \n",
       "25                          半個  NaN  NaN  \n",
       "26                        大さじ2  NaN  NaN  \n",
       "27                          適量  NaN  NaN  \n",
       "28                          二個  NaN  NaN  \n",
       "29                          少々  NaN  NaN  \n",
       "..                         ...  ...  ...  \n",
       "288                         少々  NaN  NaN  \n",
       "289                         少々  NaN  NaN  \n",
       "290                         少々  NaN  NaN  \n",
       "291                      好きなだけ  NaN  NaN  \n",
       "292                    ２ごう？くらい  NaN  NaN  \n",
       "293                   大き目の皮を２枚  NaN  NaN  \n",
       "294                  ちいさい缶をひとつ  NaN  NaN  \n",
       "295                    １ pound  NaN  NaN  \n",
       "296                小さいカップのを一つ。  NaN  NaN  \n",
       "297               こまかくきるので適当に。  NaN  NaN  \n",
       "298                  大きめサイズを一つ  NaN  NaN  \n",
       "299          別名 チャイニーズねぎ。３本くらい  NaN  NaN  \n",
       "300                        半分。  NaN  NaN  \n",
       "301               おおきめの葉を２枚ほど。  NaN  NaN  \n",
       "302   日本で売っているのかな？辛さはおこのみでどうぞ。  NaN  NaN  \n",
       "303        日本で売っているのかな？粉末状のもの。  NaN  NaN  \n",
       "304                   一匹で2人分かな  NaN  NaN  \n",
       "305                小さいピンポン玉くらい  NaN  NaN  \n",
       "306                         大１  NaN  NaN  \n",
       "307                         大２  NaN  NaN  \n",
       "308                         大１  NaN  NaN  \n",
       "309              昆布とカツオ出汁 一カップ  NaN  NaN  \n",
       "310             １本(フランスパンでもいい）  NaN  NaN  \n",
       "311                         １個  NaN  NaN  \n",
       "312                       ２５ｃｃ  NaN  NaN  \n",
       "313             ２５ｃｃ(別に２５ｃｃ用意）  NaN  NaN  \n",
       "314                       ２５ｃｃ  NaN  NaN  \n",
       "315                        ２振り  NaN  NaN  \n",
       "316                         適宜  NaN  NaN  \n",
       "317                         大１  NaN  NaN  \n",
       "\n",
       "[318 rows x 5 columns]>"
      ]
     },
     "execution_count": 7,
     "metadata": {},
     "output_type": "execute_result"
    }
   ],
   "source": [
    "inglist[0].head"
   ]
  },
  {
   "cell_type": "code",
   "execution_count": 8,
   "metadata": {},
   "outputs": [
    {
     "data": {
      "text/html": [
       "<div>\n",
       "<style scoped>\n",
       "    .dataframe tbody tr th:only-of-type {\n",
       "        vertical-align: middle;\n",
       "    }\n",
       "\n",
       "    .dataframe tbody tr th {\n",
       "        vertical-align: top;\n",
       "    }\n",
       "\n",
       "    .dataframe thead th {\n",
       "        text-align: right;\n",
       "    }\n",
       "</style>\n",
       "<table border=\"1\" class=\"dataframe\">\n",
       "  <thead>\n",
       "    <tr style=\"text-align: right;\">\n",
       "      <th></th>\n",
       "      <th>ID</th>\n",
       "      <th>食材</th>\n",
       "      <th>コメント</th>\n",
       "      <th>予備1</th>\n",
       "      <th>予備2</th>\n",
       "    </tr>\n",
       "  </thead>\n",
       "  <tbody>\n",
       "    <tr>\n",
       "      <th>0</th>\n",
       "      <td>030833ed4e8dab3aa1e9d75edc1681efb368434f</td>\n",
       "      <td>スライスチーズ</td>\n",
       "      <td>4枚（スイスのグリュイエルチーズがおすすめ）</td>\n",
       "      <td>NaN</td>\n",
       "      <td>NaN</td>\n",
       "    </tr>\n",
       "    <tr>\n",
       "      <th>1</th>\n",
       "      <td>030833ed4e8dab3aa1e9d75edc1681efb368434f</td>\n",
       "      <td>チキンブイヨン</td>\n",
       "      <td>1片</td>\n",
       "      <td>NaN</td>\n",
       "      <td>NaN</td>\n",
       "    </tr>\n",
       "    <tr>\n",
       "      <th>2</th>\n",
       "      <td>030833ed4e8dab3aa1e9d75edc1681efb368434f</td>\n",
       "      <td>白米</td>\n",
       "      <td>1.5カップくらい？</td>\n",
       "      <td>NaN</td>\n",
       "      <td>NaN</td>\n",
       "    </tr>\n",
       "    <tr>\n",
       "      <th>3</th>\n",
       "      <td>04324210352066234d6eb43866b34695cb541d31</td>\n",
       "      <td>鮭</td>\n",
       "      <td>一匹(キングサーモンでも可）</td>\n",
       "      <td>NaN</td>\n",
       "      <td>NaN</td>\n",
       "    </tr>\n",
       "    <tr>\n",
       "      <th>4</th>\n",
       "      <td>04324210352066234d6eb43866b34695cb541d31</td>\n",
       "      <td>たまねぎ</td>\n",
       "      <td>１/４個</td>\n",
       "      <td>NaN</td>\n",
       "      <td>NaN</td>\n",
       "    </tr>\n",
       "  </tbody>\n",
       "</table>\n",
       "</div>"
      ],
      "text/plain": [
       "                                         ID       食材                    コメント  \\\n",
       "0  030833ed4e8dab3aa1e9d75edc1681efb368434f  スライスチーズ  4枚（スイスのグリュイエルチーズがおすすめ）   \n",
       "1  030833ed4e8dab3aa1e9d75edc1681efb368434f  チキンブイヨン                      1片   \n",
       "2  030833ed4e8dab3aa1e9d75edc1681efb368434f       白米              1.5カップくらい？   \n",
       "3  04324210352066234d6eb43866b34695cb541d31        鮭          一匹(キングサーモンでも可）   \n",
       "4  04324210352066234d6eb43866b34695cb541d31     たまねぎ                    １/４個   \n",
       "\n",
       "   予備1  予備2  \n",
       "0  NaN  NaN  \n",
       "1  NaN  NaN  \n",
       "2  NaN  NaN  \n",
       "3  NaN  NaN  \n",
       "4  NaN  NaN  "
      ]
     },
     "execution_count": 8,
     "metadata": {},
     "output_type": "execute_result"
    }
   ],
   "source": [
    "inglist[0].head()"
   ]
  },
  {
   "cell_type": "code",
   "execution_count": 9,
   "metadata": {},
   "outputs": [
    {
     "data": {
      "text/html": [
       "<div>\n",
       "<style scoped>\n",
       "    .dataframe tbody tr th:only-of-type {\n",
       "        vertical-align: middle;\n",
       "    }\n",
       "\n",
       "    .dataframe tbody tr th {\n",
       "        vertical-align: top;\n",
       "    }\n",
       "\n",
       "    .dataframe thead th {\n",
       "        text-align: right;\n",
       "    }\n",
       "</style>\n",
       "<table border=\"1\" class=\"dataframe\">\n",
       "  <thead>\n",
       "    <tr style=\"text-align: right;\">\n",
       "      <th></th>\n",
       "      <th>1998</th>\n",
       "    </tr>\n",
       "  </thead>\n",
       "  <tbody>\n",
       "    <tr>\n",
       "      <th>0</th>\n",
       "      <td>スライスチーズ</td>\n",
       "    </tr>\n",
       "    <tr>\n",
       "      <th>1</th>\n",
       "      <td>チキンブイヨン</td>\n",
       "    </tr>\n",
       "    <tr>\n",
       "      <th>2</th>\n",
       "      <td>白米</td>\n",
       "    </tr>\n",
       "    <tr>\n",
       "      <th>3</th>\n",
       "      <td>鮭</td>\n",
       "    </tr>\n",
       "    <tr>\n",
       "      <th>4</th>\n",
       "      <td>たまねぎ</td>\n",
       "    </tr>\n",
       "  </tbody>\n",
       "</table>\n",
       "</div>"
      ],
      "text/plain": [
       "      1998\n",
       "0  スライスチーズ\n",
       "1  チキンブイヨン\n",
       "2       白米\n",
       "3        鮭\n",
       "4     たまねぎ"
      ]
     },
     "execution_count": 9,
     "metadata": {},
     "output_type": "execute_result"
    }
   ],
   "source": [
    "inglist = pd.DataFrame({'1998':pd.read_csv(\"ingredient1998.csv\",names = col_name)['食材']})\n",
    "inglist.head()"
   ]
  },
  {
   "cell_type": "code",
   "execution_count": 10,
   "metadata": {},
   "outputs": [
    {
     "ename": "SyntaxError",
     "evalue": "invalid syntax (<ipython-input-10-a25fde5502c9>, line 1)",
     "output_type": "error",
     "traceback": [
      "\u001b[0;36m  File \u001b[0;32m\"<ipython-input-10-a25fde5502c9>\"\u001b[0;36m, line \u001b[0;32m1\u001b[0m\n\u001b[0;31m    for i in range(1999:2015):\u001b[0m\n\u001b[0m                       ^\u001b[0m\n\u001b[0;31mSyntaxError\u001b[0m\u001b[0;31m:\u001b[0m invalid syntax\n"
     ]
    }
   ],
   "source": [
    "for i in range(1999:2015):\n",
    "    inglist['i'] = pd.read_csv(\"ingredient{}.csv\".format(i) ,names = col_name)['食材']})\n",
    "inglist.head()    "
   ]
  },
  {
   "cell_type": "code",
   "execution_count": 11,
   "metadata": {},
   "outputs": [
    {
     "ename": "SyntaxError",
     "evalue": "invalid syntax (<ipython-input-11-1a44e841d647>, line 2)",
     "output_type": "error",
     "traceback": [
      "\u001b[0;36m  File \u001b[0;32m\"<ipython-input-11-1a44e841d647>\"\u001b[0;36m, line \u001b[0;32m2\u001b[0m\n\u001b[0;31m    inglist['i'] = pd.read_csv(\"ingredient{}.csv\".format(i) ,names = col_name)['食材']})\u001b[0m\n\u001b[0m                                                                                    ^\u001b[0m\n\u001b[0;31mSyntaxError\u001b[0m\u001b[0;31m:\u001b[0m invalid syntax\n"
     ]
    }
   ],
   "source": [
    "for i in range(1999,2015):\n",
    "    inglist['i'] = pd.read_csv(\"ingredient{}.csv\".format(i) ,names = col_name)['食材']})\n",
    "inglist.head()"
   ]
  },
  {
   "cell_type": "code",
   "execution_count": 12,
   "metadata": {},
   "outputs": [
    {
     "name": "stderr",
     "output_type": "stream",
     "text": [
      "/Users/furutasatoru/anaconda3/lib/python3.7/site-packages/IPython/core/interactiveshell.py:3049: DtypeWarning: Columns (3,4) have mixed types. Specify dtype option on import or set low_memory=False.\n",
      "  interactivity=interactivity, compiler=compiler, result=result)\n",
      "/Users/furutasatoru/anaconda3/lib/python3.7/site-packages/IPython/core/interactiveshell.py:3049: DtypeWarning: Columns (3) have mixed types. Specify dtype option on import or set low_memory=False.\n",
      "  interactivity=interactivity, compiler=compiler, result=result)\n"
     ]
    },
    {
     "data": {
      "text/html": [
       "<div>\n",
       "<style scoped>\n",
       "    .dataframe tbody tr th:only-of-type {\n",
       "        vertical-align: middle;\n",
       "    }\n",
       "\n",
       "    .dataframe tbody tr th {\n",
       "        vertical-align: top;\n",
       "    }\n",
       "\n",
       "    .dataframe thead th {\n",
       "        text-align: right;\n",
       "    }\n",
       "</style>\n",
       "<table border=\"1\" class=\"dataframe\">\n",
       "  <thead>\n",
       "    <tr style=\"text-align: right;\">\n",
       "      <th></th>\n",
       "      <th>1998</th>\n",
       "      <th>i</th>\n",
       "    </tr>\n",
       "  </thead>\n",
       "  <tbody>\n",
       "    <tr>\n",
       "      <th>0</th>\n",
       "      <td>スライスチーズ</td>\n",
       "      <td>じゃがいも中玉</td>\n",
       "    </tr>\n",
       "    <tr>\n",
       "      <th>1</th>\n",
       "      <td>チキンブイヨン</td>\n",
       "      <td>きゅうり</td>\n",
       "    </tr>\n",
       "    <tr>\n",
       "      <th>2</th>\n",
       "      <td>白米</td>\n",
       "      <td>たらこクリームパスタの素</td>\n",
       "    </tr>\n",
       "    <tr>\n",
       "      <th>3</th>\n",
       "      <td>鮭</td>\n",
       "      <td>マヨネーズ</td>\n",
       "    </tr>\n",
       "    <tr>\n",
       "      <th>4</th>\n",
       "      <td>たまねぎ</td>\n",
       "      <td>塩</td>\n",
       "    </tr>\n",
       "  </tbody>\n",
       "</table>\n",
       "</div>"
      ],
      "text/plain": [
       "      1998             i\n",
       "0  スライスチーズ       じゃがいも中玉\n",
       "1  チキンブイヨン          きゅうり\n",
       "2       白米  たらこクリームパスタの素\n",
       "3        鮭         マヨネーズ\n",
       "4     たまねぎ             塩"
      ]
     },
     "execution_count": 12,
     "metadata": {},
     "output_type": "execute_result"
    }
   ],
   "source": [
    "for i in range(1999,2015):\n",
    "    inglist['i'] = pd.read_csv(\"ingredient{}.csv\".format(i) ,names = col_name)['食材']\n",
    "inglist.head()"
   ]
  },
  {
   "cell_type": "code",
   "execution_count": 13,
   "metadata": {
    "scrolled": true
   },
   "outputs": [
    {
     "data": {
      "text/html": [
       "<div>\n",
       "<style scoped>\n",
       "    .dataframe tbody tr th:only-of-type {\n",
       "        vertical-align: middle;\n",
       "    }\n",
       "\n",
       "    .dataframe tbody tr th {\n",
       "        vertical-align: top;\n",
       "    }\n",
       "\n",
       "    .dataframe thead th {\n",
       "        text-align: right;\n",
       "    }\n",
       "</style>\n",
       "<table border=\"1\" class=\"dataframe\">\n",
       "  <thead>\n",
       "    <tr style=\"text-align: right;\">\n",
       "      <th></th>\n",
       "      <th>1998</th>\n",
       "      <th>i</th>\n",
       "      <th>{}.format(i)</th>\n",
       "    </tr>\n",
       "  </thead>\n",
       "  <tbody>\n",
       "    <tr>\n",
       "      <th>0</th>\n",
       "      <td>スライスチーズ</td>\n",
       "      <td>じゃがいも中玉</td>\n",
       "      <td>じゃがいも中玉</td>\n",
       "    </tr>\n",
       "    <tr>\n",
       "      <th>1</th>\n",
       "      <td>チキンブイヨン</td>\n",
       "      <td>きゅうり</td>\n",
       "      <td>きゅうり</td>\n",
       "    </tr>\n",
       "    <tr>\n",
       "      <th>2</th>\n",
       "      <td>白米</td>\n",
       "      <td>たらこクリームパスタの素</td>\n",
       "      <td>たらこクリームパスタの素</td>\n",
       "    </tr>\n",
       "    <tr>\n",
       "      <th>3</th>\n",
       "      <td>鮭</td>\n",
       "      <td>マヨネーズ</td>\n",
       "      <td>マヨネーズ</td>\n",
       "    </tr>\n",
       "    <tr>\n",
       "      <th>4</th>\n",
       "      <td>たまねぎ</td>\n",
       "      <td>塩</td>\n",
       "      <td>塩</td>\n",
       "    </tr>\n",
       "  </tbody>\n",
       "</table>\n",
       "</div>"
      ],
      "text/plain": [
       "      1998             i  {}.format(i)\n",
       "0  スライスチーズ       じゃがいも中玉       じゃがいも中玉\n",
       "1  チキンブイヨン          きゅうり          きゅうり\n",
       "2       白米  たらこクリームパスタの素  たらこクリームパスタの素\n",
       "3        鮭         マヨネーズ         マヨネーズ\n",
       "4     たまねぎ             塩             塩"
      ]
     },
     "execution_count": 13,
     "metadata": {},
     "output_type": "execute_result"
    }
   ],
   "source": [
    "for i in range(1999,2015):\n",
    "    inglist['{}.format(i)'] = pd.read_csv(\"ingredient{}.csv\".format(i) ,names = col_name)['食材']\n",
    "inglist.head()"
   ]
  },
  {
   "cell_type": "code",
   "execution_count": 14,
   "metadata": {},
   "outputs": [],
   "source": [
    "inglist[1999] = pd.read_csv(\"ingredient1999.csv\" ,names = col_name)['食材']"
   ]
  },
  {
   "cell_type": "code",
   "execution_count": 15,
   "metadata": {},
   "outputs": [
    {
     "data": {
      "text/html": [
       "<div>\n",
       "<style scoped>\n",
       "    .dataframe tbody tr th:only-of-type {\n",
       "        vertical-align: middle;\n",
       "    }\n",
       "\n",
       "    .dataframe tbody tr th {\n",
       "        vertical-align: top;\n",
       "    }\n",
       "\n",
       "    .dataframe thead th {\n",
       "        text-align: right;\n",
       "    }\n",
       "</style>\n",
       "<table border=\"1\" class=\"dataframe\">\n",
       "  <thead>\n",
       "    <tr style=\"text-align: right;\">\n",
       "      <th></th>\n",
       "      <th>1998</th>\n",
       "      <th>i</th>\n",
       "      <th>{}.format(i)</th>\n",
       "      <th>1999</th>\n",
       "    </tr>\n",
       "  </thead>\n",
       "  <tbody>\n",
       "    <tr>\n",
       "      <th>0</th>\n",
       "      <td>スライスチーズ</td>\n",
       "      <td>じゃがいも中玉</td>\n",
       "      <td>じゃがいも中玉</td>\n",
       "      <td>カルピス</td>\n",
       "    </tr>\n",
       "    <tr>\n",
       "      <th>1</th>\n",
       "      <td>チキンブイヨン</td>\n",
       "      <td>きゅうり</td>\n",
       "      <td>きゅうり</td>\n",
       "      <td>牛乳</td>\n",
       "    </tr>\n",
       "    <tr>\n",
       "      <th>2</th>\n",
       "      <td>白米</td>\n",
       "      <td>たらこクリームパスタの素</td>\n",
       "      <td>たらこクリームパスタの素</td>\n",
       "      <td>炭酸水</td>\n",
       "    </tr>\n",
       "    <tr>\n",
       "      <th>3</th>\n",
       "      <td>鮭</td>\n",
       "      <td>マヨネーズ</td>\n",
       "      <td>マヨネーズ</td>\n",
       "      <td>マグロ中落ち</td>\n",
       "    </tr>\n",
       "    <tr>\n",
       "      <th>4</th>\n",
       "      <td>たまねぎ</td>\n",
       "      <td>塩</td>\n",
       "      <td>塩</td>\n",
       "      <td>アボガド</td>\n",
       "    </tr>\n",
       "  </tbody>\n",
       "</table>\n",
       "</div>"
      ],
      "text/plain": [
       "      1998             i  {}.format(i)    1999\n",
       "0  スライスチーズ       じゃがいも中玉       じゃがいも中玉    カルピス\n",
       "1  チキンブイヨン          きゅうり          きゅうり      牛乳\n",
       "2       白米  たらこクリームパスタの素  たらこクリームパスタの素     炭酸水\n",
       "3        鮭         マヨネーズ         マヨネーズ  マグロ中落ち\n",
       "4     たまねぎ             塩             塩    アボガド"
      ]
     },
     "execution_count": 15,
     "metadata": {},
     "output_type": "execute_result"
    }
   ],
   "source": [
    "inglist.head()"
   ]
  },
  {
   "cell_type": "code",
   "execution_count": 16,
   "metadata": {
    "scrolled": true
   },
   "outputs": [
    {
     "data": {
      "text/html": [
       "<div>\n",
       "<style scoped>\n",
       "    .dataframe tbody tr th:only-of-type {\n",
       "        vertical-align: middle;\n",
       "    }\n",
       "\n",
       "    .dataframe tbody tr th {\n",
       "        vertical-align: top;\n",
       "    }\n",
       "\n",
       "    .dataframe thead th {\n",
       "        text-align: right;\n",
       "    }\n",
       "</style>\n",
       "<table border=\"1\" class=\"dataframe\">\n",
       "  <thead>\n",
       "    <tr style=\"text-align: right;\">\n",
       "      <th></th>\n",
       "      <th>1998</th>\n",
       "      <th>1999</th>\n",
       "      <th>2000</th>\n",
       "      <th>2001</th>\n",
       "      <th>2002</th>\n",
       "      <th>2003</th>\n",
       "      <th>2004</th>\n",
       "      <th>2005</th>\n",
       "      <th>2006</th>\n",
       "      <th>2007</th>\n",
       "      <th>2008</th>\n",
       "      <th>2009</th>\n",
       "      <th>2010</th>\n",
       "      <th>2011</th>\n",
       "      <th>2012</th>\n",
       "      <th>2013</th>\n",
       "      <th>2014</th>\n",
       "    </tr>\n",
       "  </thead>\n",
       "  <tbody>\n",
       "    <tr>\n",
       "      <th>0</th>\n",
       "      <td>スライスチーズ</td>\n",
       "      <td>カルピス</td>\n",
       "      <td>パスタ</td>\n",
       "      <td>赤じそ</td>\n",
       "      <td>なす</td>\n",
       "      <td>はんぺん</td>\n",
       "      <td>薄力粉</td>\n",
       "      <td>クリームチーズ</td>\n",
       "      <td>ブルーベリー</td>\n",
       "      <td>白菜</td>\n",
       "      <td>にんじん</td>\n",
       "      <td>鶏がら</td>\n",
       "      <td>＋ハンバーグ＋</td>\n",
       "      <td>ホットケーキミックス</td>\n",
       "      <td>豚こま</td>\n",
       "      <td>薄揚げ</td>\n",
       "      <td>じゃがいも中玉</td>\n",
       "    </tr>\n",
       "    <tr>\n",
       "      <th>1</th>\n",
       "      <td>チキンブイヨン</td>\n",
       "      <td>牛乳</td>\n",
       "      <td>キュウリ</td>\n",
       "      <td>塩</td>\n",
       "      <td>大葉</td>\n",
       "      <td>スライスチーズ</td>\n",
       "      <td>アーモンドプードル</td>\n",
       "      <td>サワークリーム</td>\n",
       "      <td>りんご酢</td>\n",
       "      <td>肉（豚or牛）</td>\n",
       "      <td>ごま油</td>\n",
       "      <td>水</td>\n",
       "      <td>合挽ミンチ:</td>\n",
       "      <td>プレーンヨ−グルト(無糖)</td>\n",
       "      <td>ブロッコリー</td>\n",
       "      <td>うどん</td>\n",
       "      <td>きゅうり</td>\n",
       "    </tr>\n",
       "    <tr>\n",
       "      <th>2</th>\n",
       "      <td>白米</td>\n",
       "      <td>炭酸水</td>\n",
       "      <td>レタス</td>\n",
       "      <td>砂糖</td>\n",
       "      <td>からし</td>\n",
       "      <td>しょう油</td>\n",
       "      <td>無塩バター</td>\n",
       "      <td>砂糖</td>\n",
       "      <td>氷砂糖</td>\n",
       "      <td>めんつゆ</td>\n",
       "      <td>塩コショウ</td>\n",
       "      <td>豆乳</td>\n",
       "      <td>たまねぎ:</td>\n",
       "      <td>卵</td>\n",
       "      <td>たまねぎ</td>\n",
       "      <td>青ネギ</td>\n",
       "      <td>たらこクリームパスタの素</td>\n",
       "    </tr>\n",
       "    <tr>\n",
       "      <th>3</th>\n",
       "      <td>鮭</td>\n",
       "      <td>マグロ中落ち</td>\n",
       "      <td>鶏肉</td>\n",
       "      <td>ホワイトリカー</td>\n",
       "      <td>だししょうゆ</td>\n",
       "      <td>わさび</td>\n",
       "      <td>卵黄</td>\n",
       "      <td>卵</td>\n",
       "      <td>ほうれん草</td>\n",
       "      <td>◎紅茶ティパック(アールグレイ)</td>\n",
       "      <td>パスタ</td>\n",
       "      <td>鶏もも肉</td>\n",
       "      <td>ニンジン:</td>\n",
       "      <td>砂糖</td>\n",
       "      <td>にんじん</td>\n",
       "      <td>だしの素</td>\n",
       "      <td>マヨネーズ</td>\n",
       "    </tr>\n",
       "    <tr>\n",
       "      <th>4</th>\n",
       "      <td>たまねぎ</td>\n",
       "      <td>アボガド</td>\n",
       "      <td>塩</td>\n",
       "      <td>アカハラ</td>\n",
       "      <td>サラダ油</td>\n",
       "      <td>バター</td>\n",
       "      <td>グラニュー糖</td>\n",
       "      <td>レモンの絞り汁</td>\n",
       "      <td>ひき肉</td>\n",
       "      <td>●ゼラチン</td>\n",
       "      <td>アボカド</td>\n",
       "      <td>白菜</td>\n",
       "      <td>たまご:</td>\n",
       "      <td>食用油</td>\n",
       "      <td>ほうれんそう</td>\n",
       "      <td>醤油</td>\n",
       "      <td>塩</td>\n",
       "    </tr>\n",
       "  </tbody>\n",
       "</table>\n",
       "</div>"
      ],
      "text/plain": [
       "      1998    1999  2000     2001    2002     2003       2004     2005  \\\n",
       "0  スライスチーズ    カルピス   パスタ      赤じそ      なす     はんぺん        薄力粉  クリームチーズ   \n",
       "1  チキンブイヨン      牛乳  キュウリ        塩      大葉  スライスチーズ  アーモンドプードル  サワークリーム   \n",
       "2       白米     炭酸水   レタス       砂糖     からし     しょう油      無塩バター       砂糖   \n",
       "3        鮭  マグロ中落ち    鶏肉  ホワイトリカー  だししょうゆ      わさび         卵黄        卵   \n",
       "4     たまねぎ    アボガド     塩     アカハラ    サラダ油      バター     グラニュー糖  レモンの絞り汁   \n",
       "\n",
       "     2006              2007   2008  2009     2010           2011    2012  \\\n",
       "0  ブルーベリー                白菜   にんじん   鶏がら  ＋ハンバーグ＋     ホットケーキミックス     豚こま   \n",
       "1    りんご酢           肉（豚or牛）    ごま油     水   合挽ミンチ:  プレーンヨ−グルト(無糖)  ブロッコリー   \n",
       "2     氷砂糖              めんつゆ  塩コショウ    豆乳    たまねぎ:              卵    たまねぎ   \n",
       "3   ほうれん草  ◎紅茶ティパック(アールグレイ)    パスタ  鶏もも肉    ニンジン:             砂糖    にんじん   \n",
       "4     ひき肉             ●ゼラチン   アボカド    白菜     たまご:            食用油  ほうれんそう   \n",
       "\n",
       "   2013          2014  \n",
       "0   薄揚げ       じゃがいも中玉  \n",
       "1   うどん          きゅうり  \n",
       "2   青ネギ  たらこクリームパスタの素  \n",
       "3  だしの素         マヨネーズ  \n",
       "4    醤油             塩  "
      ]
     },
     "execution_count": 16,
     "metadata": {},
     "output_type": "execute_result"
    }
   ],
   "source": [
    "inglist = pd.DataFrame({'1998':pd.read_csv(\"ingredient1998.csv\",names = col_name)['食材']})\n",
    "for i in range(1999,2015):\n",
    "    inglist[i] = pd.read_csv(\"ingredient{}.csv\".format(i) ,names = col_name)['食材']\n",
    "inglist.head()"
   ]
  },
  {
   "cell_type": "code",
   "execution_count": 17,
   "metadata": {},
   "outputs": [
    {
     "data": {
      "text/plain": [
       "1998    0\n",
       "1999    0\n",
       "2000    0\n",
       "2001    0\n",
       "2002    0\n",
       "2003    0\n",
       "2004    0\n",
       "2005    2\n",
       "2006    0\n",
       "2007    2\n",
       "2008    1\n",
       "2009    0\n",
       "2010    0\n",
       "2011    0\n",
       "2012    1\n",
       "2013    1\n",
       "2014    2\n",
       "dtype: int64"
      ]
     },
     "execution_count": 17,
     "metadata": {},
     "output_type": "execute_result"
    }
   ],
   "source": [
    "inglist.isin([\"アボカド\"]).sum()"
   ]
  },
  {
   "cell_type": "code",
   "execution_count": 18,
   "metadata": {},
   "outputs": [
    {
     "data": {
      "text/html": [
       "<div>\n",
       "<style scoped>\n",
       "    .dataframe tbody tr th:only-of-type {\n",
       "        vertical-align: middle;\n",
       "    }\n",
       "\n",
       "    .dataframe tbody tr th {\n",
       "        vertical-align: top;\n",
       "    }\n",
       "\n",
       "    .dataframe thead th {\n",
       "        text-align: right;\n",
       "    }\n",
       "</style>\n",
       "<table border=\"1\" class=\"dataframe\">\n",
       "  <thead>\n",
       "    <tr style=\"text-align: right;\">\n",
       "      <th></th>\n",
       "      <th>1998</th>\n",
       "      <th>1999</th>\n",
       "      <th>2000</th>\n",
       "      <th>2001</th>\n",
       "      <th>2002</th>\n",
       "      <th>2003</th>\n",
       "      <th>2004</th>\n",
       "      <th>2005</th>\n",
       "      <th>2006</th>\n",
       "      <th>2007</th>\n",
       "      <th>2008</th>\n",
       "      <th>2009</th>\n",
       "      <th>2010</th>\n",
       "      <th>2011</th>\n",
       "      <th>2012</th>\n",
       "      <th>2013</th>\n",
       "      <th>2014</th>\n",
       "    </tr>\n",
       "  </thead>\n",
       "  <tbody>\n",
       "    <tr>\n",
       "      <th>0</th>\n",
       "      <td>False</td>\n",
       "      <td>False</td>\n",
       "      <td>False</td>\n",
       "      <td>False</td>\n",
       "      <td>False</td>\n",
       "      <td>False</td>\n",
       "      <td>False</td>\n",
       "      <td>False</td>\n",
       "      <td>False</td>\n",
       "      <td>False</td>\n",
       "      <td>False</td>\n",
       "      <td>False</td>\n",
       "      <td>False</td>\n",
       "      <td>False</td>\n",
       "      <td>False</td>\n",
       "      <td>False</td>\n",
       "      <td>False</td>\n",
       "    </tr>\n",
       "    <tr>\n",
       "      <th>1</th>\n",
       "      <td>False</td>\n",
       "      <td>False</td>\n",
       "      <td>False</td>\n",
       "      <td>False</td>\n",
       "      <td>False</td>\n",
       "      <td>False</td>\n",
       "      <td>False</td>\n",
       "      <td>False</td>\n",
       "      <td>False</td>\n",
       "      <td>False</td>\n",
       "      <td>False</td>\n",
       "      <td>False</td>\n",
       "      <td>False</td>\n",
       "      <td>False</td>\n",
       "      <td>False</td>\n",
       "      <td>False</td>\n",
       "      <td>False</td>\n",
       "    </tr>\n",
       "    <tr>\n",
       "      <th>2</th>\n",
       "      <td>False</td>\n",
       "      <td>False</td>\n",
       "      <td>False</td>\n",
       "      <td>False</td>\n",
       "      <td>False</td>\n",
       "      <td>False</td>\n",
       "      <td>False</td>\n",
       "      <td>False</td>\n",
       "      <td>False</td>\n",
       "      <td>False</td>\n",
       "      <td>False</td>\n",
       "      <td>False</td>\n",
       "      <td>False</td>\n",
       "      <td>False</td>\n",
       "      <td>False</td>\n",
       "      <td>False</td>\n",
       "      <td>False</td>\n",
       "    </tr>\n",
       "    <tr>\n",
       "      <th>3</th>\n",
       "      <td>False</td>\n",
       "      <td>False</td>\n",
       "      <td>False</td>\n",
       "      <td>False</td>\n",
       "      <td>False</td>\n",
       "      <td>False</td>\n",
       "      <td>False</td>\n",
       "      <td>False</td>\n",
       "      <td>False</td>\n",
       "      <td>False</td>\n",
       "      <td>False</td>\n",
       "      <td>False</td>\n",
       "      <td>False</td>\n",
       "      <td>False</td>\n",
       "      <td>False</td>\n",
       "      <td>False</td>\n",
       "      <td>False</td>\n",
       "    </tr>\n",
       "    <tr>\n",
       "      <th>4</th>\n",
       "      <td>False</td>\n",
       "      <td>False</td>\n",
       "      <td>False</td>\n",
       "      <td>False</td>\n",
       "      <td>False</td>\n",
       "      <td>False</td>\n",
       "      <td>False</td>\n",
       "      <td>False</td>\n",
       "      <td>False</td>\n",
       "      <td>False</td>\n",
       "      <td>True</td>\n",
       "      <td>False</td>\n",
       "      <td>False</td>\n",
       "      <td>False</td>\n",
       "      <td>False</td>\n",
       "      <td>False</td>\n",
       "      <td>False</td>\n",
       "    </tr>\n",
       "  </tbody>\n",
       "</table>\n",
       "</div>"
      ],
      "text/plain": [
       "    1998   1999   2000   2001   2002   2003   2004   2005   2006   2007  \\\n",
       "0  False  False  False  False  False  False  False  False  False  False   \n",
       "1  False  False  False  False  False  False  False  False  False  False   \n",
       "2  False  False  False  False  False  False  False  False  False  False   \n",
       "3  False  False  False  False  False  False  False  False  False  False   \n",
       "4  False  False  False  False  False  False  False  False  False  False   \n",
       "\n",
       "    2008   2009   2010   2011   2012   2013   2014  \n",
       "0  False  False  False  False  False  False  False  \n",
       "1  False  False  False  False  False  False  False  \n",
       "2  False  False  False  False  False  False  False  \n",
       "3  False  False  False  False  False  False  False  \n",
       "4   True  False  False  False  False  False  False  "
      ]
     },
     "execution_count": 18,
     "metadata": {},
     "output_type": "execute_result"
    }
   ],
   "source": [
    "inglist.isin([\"アボカド\"]).head()"
   ]
  },
  {
   "cell_type": "code",
   "execution_count": 19,
   "metadata": {},
   "outputs": [
    {
     "data": {
      "text/html": [
       "<div>\n",
       "<style scoped>\n",
       "    .dataframe tbody tr th:only-of-type {\n",
       "        vertical-align: middle;\n",
       "    }\n",
       "\n",
       "    .dataframe tbody tr th {\n",
       "        vertical-align: top;\n",
       "    }\n",
       "\n",
       "    .dataframe thead th {\n",
       "        text-align: right;\n",
       "    }\n",
       "</style>\n",
       "<table border=\"1\" class=\"dataframe\">\n",
       "  <thead>\n",
       "    <tr style=\"text-align: right;\">\n",
       "      <th></th>\n",
       "      <th>1998</th>\n",
       "      <th>1999</th>\n",
       "      <th>2000</th>\n",
       "      <th>2001</th>\n",
       "      <th>2002</th>\n",
       "      <th>2003</th>\n",
       "      <th>2004</th>\n",
       "      <th>2005</th>\n",
       "      <th>2006</th>\n",
       "      <th>2007</th>\n",
       "      <th>2008</th>\n",
       "      <th>2009</th>\n",
       "      <th>2010</th>\n",
       "      <th>2011</th>\n",
       "      <th>2012</th>\n",
       "      <th>2013</th>\n",
       "      <th>2014</th>\n",
       "    </tr>\n",
       "  </thead>\n",
       "  <tbody>\n",
       "    <tr>\n",
       "      <th>0</th>\n",
       "      <td>False</td>\n",
       "      <td>False</td>\n",
       "      <td>False</td>\n",
       "      <td>False</td>\n",
       "      <td>False</td>\n",
       "      <td>False</td>\n",
       "      <td>False</td>\n",
       "      <td>False</td>\n",
       "      <td>False</td>\n",
       "      <td>False</td>\n",
       "      <td>False</td>\n",
       "      <td>False</td>\n",
       "      <td>False</td>\n",
       "      <td>False</td>\n",
       "      <td>False</td>\n",
       "      <td>False</td>\n",
       "      <td>False</td>\n",
       "    </tr>\n",
       "    <tr>\n",
       "      <th>1</th>\n",
       "      <td>False</td>\n",
       "      <td>False</td>\n",
       "      <td>False</td>\n",
       "      <td>False</td>\n",
       "      <td>False</td>\n",
       "      <td>False</td>\n",
       "      <td>False</td>\n",
       "      <td>False</td>\n",
       "      <td>False</td>\n",
       "      <td>False</td>\n",
       "      <td>False</td>\n",
       "      <td>False</td>\n",
       "      <td>False</td>\n",
       "      <td>False</td>\n",
       "      <td>False</td>\n",
       "      <td>False</td>\n",
       "      <td>False</td>\n",
       "    </tr>\n",
       "    <tr>\n",
       "      <th>2</th>\n",
       "      <td>False</td>\n",
       "      <td>False</td>\n",
       "      <td>False</td>\n",
       "      <td>False</td>\n",
       "      <td>False</td>\n",
       "      <td>False</td>\n",
       "      <td>False</td>\n",
       "      <td>False</td>\n",
       "      <td>False</td>\n",
       "      <td>False</td>\n",
       "      <td>False</td>\n",
       "      <td>False</td>\n",
       "      <td>False</td>\n",
       "      <td>False</td>\n",
       "      <td>False</td>\n",
       "      <td>False</td>\n",
       "      <td>False</td>\n",
       "    </tr>\n",
       "    <tr>\n",
       "      <th>3</th>\n",
       "      <td>False</td>\n",
       "      <td>False</td>\n",
       "      <td>False</td>\n",
       "      <td>False</td>\n",
       "      <td>False</td>\n",
       "      <td>False</td>\n",
       "      <td>False</td>\n",
       "      <td>False</td>\n",
       "      <td>False</td>\n",
       "      <td>False</td>\n",
       "      <td>False</td>\n",
       "      <td>False</td>\n",
       "      <td>False</td>\n",
       "      <td>False</td>\n",
       "      <td>False</td>\n",
       "      <td>False</td>\n",
       "      <td>False</td>\n",
       "    </tr>\n",
       "    <tr>\n",
       "      <th>4</th>\n",
       "      <td>False</td>\n",
       "      <td>True</td>\n",
       "      <td>False</td>\n",
       "      <td>False</td>\n",
       "      <td>False</td>\n",
       "      <td>False</td>\n",
       "      <td>False</td>\n",
       "      <td>False</td>\n",
       "      <td>False</td>\n",
       "      <td>False</td>\n",
       "      <td>False</td>\n",
       "      <td>False</td>\n",
       "      <td>False</td>\n",
       "      <td>False</td>\n",
       "      <td>False</td>\n",
       "      <td>False</td>\n",
       "      <td>False</td>\n",
       "    </tr>\n",
       "  </tbody>\n",
       "</table>\n",
       "</div>"
      ],
      "text/plain": [
       "    1998   1999   2000   2001   2002   2003   2004   2005   2006   2007  \\\n",
       "0  False  False  False  False  False  False  False  False  False  False   \n",
       "1  False  False  False  False  False  False  False  False  False  False   \n",
       "2  False  False  False  False  False  False  False  False  False  False   \n",
       "3  False  False  False  False  False  False  False  False  False  False   \n",
       "4  False   True  False  False  False  False  False  False  False  False   \n",
       "\n",
       "    2008   2009   2010   2011   2012   2013   2014  \n",
       "0  False  False  False  False  False  False  False  \n",
       "1  False  False  False  False  False  False  False  \n",
       "2  False  False  False  False  False  False  False  \n",
       "3  False  False  False  False  False  False  False  \n",
       "4  False  False  False  False  False  False  False  "
      ]
     },
     "execution_count": 19,
     "metadata": {},
     "output_type": "execute_result"
    }
   ],
   "source": [
    "inglist.isin([\"アボガド\"]).head()"
   ]
  },
  {
   "cell_type": "code",
   "execution_count": 20,
   "metadata": {},
   "outputs": [
    {
     "data": {
      "text/plain": [
       "1998    1\n",
       "1999    1\n",
       "2000    0\n",
       "2001    0\n",
       "2002    0\n",
       "2003    0\n",
       "2004    0\n",
       "2005    0\n",
       "2006    0\n",
       "2007    0\n",
       "2008    0\n",
       "2009    0\n",
       "2010    1\n",
       "2011    0\n",
       "2012    0\n",
       "2013    0\n",
       "2014    0\n",
       "dtype: int64"
      ]
     },
     "execution_count": 20,
     "metadata": {},
     "output_type": "execute_result"
    }
   ],
   "source": [
    "inglist.isin([\"アボガド\"]).sum()"
   ]
  },
  {
   "cell_type": "code",
   "execution_count": 21,
   "metadata": {},
   "outputs": [
    {
     "name": "stdout",
     "output_type": "stream",
     "text": [
      "            1998              1999     2000              2001  \\\n",
      "0        スライスチーズ              カルピス      パスタ               赤じそ   \n",
      "1        チキンブイヨン                牛乳     キュウリ                 塩   \n",
      "2             白米               炭酸水      レタス                砂糖   \n",
      "3              鮭            マグロ中落ち       鶏肉           ホワイトリカー   \n",
      "4           たまねぎ              アボガド        塩              アカハラ   \n",
      "5            しめじ              ニンジン     コショウ               鷹の爪   \n",
      "6           白ワイン              キュウリ     バジリコ                 酒   \n",
      "7        オリーブオイル  エクストラバージンオリーブオイル  オリーブオイル              しょうゆ   \n",
      "8            ハーブ            レモン（汁）     ニンニク                砂糖   \n",
      "9            バター          ブラックペッパー      鷹の爪             春巻きの皮   \n",
      "10          レモン汁                醤油       白菜               ツナ缶   \n",
      "11        アルミホイル               レタス      鶏手羽              タマネギ   \n",
      "12            牛乳              きゅうり     鶏ミンチ          セロリ（葉つき）   \n",
      "13         生クリーム               トマト       エビ             マヨネーズ   \n",
      "14        グランマニエ               長ネギ       ネギ            塩、こしょう   \n",
      "15            砂糖               白ゴマ       椎茸             うなぎ蒲焼   \n",
      "16           バター                醤油       ナス              キュウリ   \n",
      "17          はちみつ               ごま油      ツナ缶               青じそ   \n",
      "18   ココア（バンホーテン）                お酒      しめじ              焼き海苔   \n",
      "19           よもぎ               ラー油   トマトソース               すし酢   \n",
      "20             塩            切り干し大根  トマトピューレ             温かいご飯   \n",
      "21     上新粉(お米の粉）             牛薄切り肉     赤ワイン               粉山椒   \n",
      "22            熱湯              万能ねぎ    固形スープ            バルサミコ酢   \n",
      "23           あんこ               ごま油        塩              にんにく   \n",
      "24          にんじん              にんにく     こしょう  フレッシュ（ドライ）ローズマリー   \n",
      "25           レモン               長ねぎ    ベイリーフ     フレッシュ（ドライ）タイム   \n",
      "26          亜麻仁油                 酒  スパゲッティー  エキストラバージンオリーブオイル   \n",
      "27          レーズン              しょうゆ  オリーブオイル      ポルタベロマッシュルーム   \n",
      "28             卵                砂糖     にんにく                 塩   \n",
      "29        サラダオイル              いりごま       たこ          粗挽き黒ゴショウ   \n",
      "..           ...               ...      ...               ...   \n",
      "288            塩                大葉     にんにく              ブイヨン   \n",
      "289          バジル         ココナッツクリーム      ポン酢                砂糖   \n",
      "290          バター           スイートコーン      サンマ                 塩   \n",
      "291      とろけるチーズ                みず      小麦粉               黒胡椒   \n",
      "292          タイ米                砂糖     ニンニク           トマトペースト   \n",
      "293        ブリトの皮              きゅうり     ショウガ           トマトピューレ   \n",
      "294    リフライドビーンズ              たこの足        酢                 水   \n",
      "295           牛肉             白菜キムチ     しょう油           オリーブオイル   \n",
      "296      サワークリーム                にら       砂糖              ニンニク   \n",
      "297      スライスチーズ                 塩     コショウ              キャベツ   \n",
      "298         生トマト                砂糖      ごま油              きゃべつ   \n",
      "299          亀虫草             コチジャン      長ねぎ               玉ねぎ   \n",
      "300         たまねぎ                お酢        酒             じゃがいも   \n",
      "301          レタス              しょうゆ      揚げ油              ベーコン   \n",
      "302       サラサソース               ごま油     鶏もも肉              コンソメ   \n",
      "303       ブリトソース             白すりごま        卵           味シオコショー   \n",
      "304        鯖（さば）             白いりごま      片栗粉               本だし   \n",
      "305         しょうが               小麦粉      パン粉              かぶの葉   \n",
      "306          赤味噌               鶏胸肉        塩              梅こぶ茶   \n",
      "307           砂糖           サワークリーム     こしょう              かぼちゃ   \n",
      "308           醤油          パルメザンチーズ       みそ              たまねぎ   \n",
      "309          だし汁              たまねぎ      ソース              ニンジン   \n",
      "310         バゲット              ニンニク       砂糖               バター   \n",
      "311            卵              タラゴン      バター                 水   \n",
      "312           牛乳               バター        酒          コンソメキューブ   \n",
      "313        生クリーム            鶏がらスープ       牛肉             生クリーム   \n",
      "314         コーヒー              マンゴー      レタス                牛乳   \n",
      "315         シナモン               バナナ       ご飯              塩・胡椒   \n",
      "316     メープルシロップ            パイナップル        卵           はまぐり（大）   \n",
      "317         はちみつ               ディル     しょう油                椎茸   \n",
      "\n",
      "                2002               2003                2004            2005  \\\n",
      "0                 なす               はんぺん                 薄力粉         クリームチーズ   \n",
      "1                 大葉            スライスチーズ           アーモンドプードル         サワークリーム   \n",
      "2                からし               しょう油               無塩バター              砂糖   \n",
      "3             だししょうゆ                わさび                  卵黄               卵   \n",
      "4               サラダ油                バター              グラニュー糖         レモンの絞り汁   \n",
      "5                レタス                 青梅             オレンジピール             薄力粉   \n",
      "6          オイルサーディン缶                 砂糖              コアントロー         コーンスターチ   \n",
      "7               しょうゆ  チキンスティック(手羽先でもＯＫ)           ベーキングパウダー              鳥胸   \n",
      "8    ポワブルロゼ（赤い粒こしょう）             ねぎ青いとこ                  牛乳            そうめん   \n",
      "9                小麦粉               しょうが                  卵白            裏白木耳   \n",
      "10         ベーキングパウダー             三つ葉か香菜          転化糖（トリモリン）         レモンペッパー   \n",
      "11               バター                 醤油             ※コアントロー            レモン汁   \n",
      "12            グラニュー糖              一味唐辛子            ホットケーキの素             鶏ガラ   \n",
      "13                 卵               かぼちゃ                  豆乳             削り鰹   \n",
      "14         紅茶のティーパック                合挽肉                  抹茶             長ネギ   \n",
      "15               ラム酒                玉ねぎ               サツマイモ               塩   \n",
      "16               ラム肉              塩コショウ                 強力粉               酒   \n",
      "17              パプリカ                赤味噌             ショートニング              牛乳   \n",
      "18              ピーマン                みりん                粉ミルク           生クリーム   \n",
      "19               日本酒                 牛乳                  砂糖         バニラビーンズ   \n",
      "20          クレージーソルト            とろけるチーズ                   塩              卵黄   \n",
      "21          香辛料のパプリカ               鶏もも肉            パネトーネマザー          グラニュー糖   \n",
      "22              キャベツ                  酒                   水         *グラニュー糖   \n",
      "23           チキンコンソメ               こしょう         タケノコ（下ゆで済み）              アジ   \n",
      "24                豚肉               白髪ねぎ                   塩            にんじん   \n",
      "25              たまねぎ               にんじん                しょうゆ            たけのこ   \n",
      "26              しいたけ               ピーマン                 じゃこ            きくらげ   \n",
      "27            ☆マヨネーズ                ●砂糖                  梅干            きぬさや   \n",
      "28        ☆コーヒーフレッシュ             ●ケチャップ                   米  中華スープの素（ウェイパー）   \n",
      "29        ☆ガーリックパウダー              ●しょうゆ         ＊全粒粉（薄力粉でも）             片栗粉   \n",
      "..               ...                ...                 ...             ...   \n",
      "288            ○タマネギ                 牛乳                合びき肉            サラダ油   \n",
      "289            ●ナツメグ           バニラエッセンス                ローリエ              砂糖   \n",
      "290         アサリ（殻つき）                オクラ                コンソメ              牛乳   \n",
      "291       エリンギ（手で裂く）              モロヘイヤ            トマトケチャップ             キムチ   \n",
      "292       ニラ（4～５㎝長さ）               にんじん                 ソース       豚（こまかバラ）肉   \n",
      "293              日本酒                玉ねぎ                   塩             ゴマ油   \n",
      "294               醤油           鶏がらスープの素                コショウ              大根   \n",
      "295              ゴマ油            オリーブオイル               マヨネーズ              ネギ   \n",
      "296          お好みのパスタ               にんにく                  砂糖              豆腐   \n",
      "297        ●ショートブレッド                  水                  牛乳              カニ   \n",
      "298            無塩バター                島豆腐          ホットケーキミックス              納豆   \n",
      "299           グラニュー糖                ゴーヤ            紅茶ティーパック              味噌   \n",
      "300              粉類A                  卵              ●まんじゅう              煮干   \n",
      "301             ・薄力粉               中華だし                 強力粉               水   \n",
      "302             ・ココア                 醤油                 薄力粉         練りゴマ（白）   \n",
      "303               ・塩                みりん              グラニュー糖        乾燥カッペリーニ   \n",
      "304           ●フィリング              塩こしょう                ぬるま湯             トマト   \n",
      "305          クリームチーズ                ごま油             ドライイースト            キュウリ   \n",
      "306          バニラビーンズ                薄力粉               (サラダ油          ドライパセリ   \n",
      "307           グラニュー糖                 ＢＰ                 ●角煮        しそドレッシング   \n",
      "308    ニジマスまたは鮎などの川魚                 重曹               豚バラ肉塊            レモン汁   \n",
      "309              自然塩             グラニュー糖                ショウガ              くり   \n",
      "310             万能だし                 粉糖           長ネギ(青い部分)               米   \n",
      "311         粗糖またはきび糖                バター              肉の茹で汁*          　　★みりん   \n",
      "312  山椒の実や葉またはローズマリー              完熟バナナ                 醤油*            　　★酒   \n",
      "313              揚げ油                たまご           オイスターソース*           　　★砂糖   \n",
      "314                水         イカ一夜干(既製品)  ブラウンシュガー(か三温糖、黒糖)*            　　☆塩   \n",
      "315            じゃがいも                 大豆                  酒*         　　☆だしの元   \n",
      "316              明太子               にんじん                 強力粉         　　☆しょうゆ   \n",
      "317            マヨネーズ               干し椎茸                 全粒粉            　　☆酒   \n",
      "\n",
      "                      2006              2007             2008  \\\n",
      "0                   ブルーベリー                白菜             にんじん   \n",
      "1                     りんご酢           肉（豚or牛）              ごま油   \n",
      "2                      氷砂糖              めんつゆ            塩コショウ   \n",
      "3                    ほうれん草  ◎紅茶ティパック(アールグレイ)              パスタ   \n",
      "4                      ひき肉             ●ゼラチン             アボカド   \n",
      "5                       ねぎ        フレーバースジャータ              めかぶ   \n",
      "6                     にんにく          ●湯(80℃～)               ツナ   \n",
      "7                     しょうが                砂糖             メンつゆ   \n",
      "8                    塩こしょう                ◎湯             お好みで   \n",
      "9                        卵               ごぼう             刻みのり   \n",
      "10                    ※玉ねぎ                人参              もやし   \n",
      "11                 ※グリーンチリ               ゴマ油        からし（チューブ）   \n",
      "12                     ※生姜             てんさい糖               醤油   \n",
      "13                   ※にんにく                 酒             茹でタコ   \n",
      "14                       塩  だし醤油（レシピ№423866)              玉ねぎ   \n",
      "15                       油           すりゴマ（白）         ☆オリーブオイル   \n",
      "16                 ★クミンシード             七味唐辛子               ◎塩   \n",
      "17               ★マスタードシード             マヨネーズ        ☆ブラックペッパー   \n",
      "18              ★シナモンスティック          ブラックペッパー  ☆白ワインビネガーｏｒレモン汁   \n",
      "19              ★ブラックカルダモン            フランスパン       ☆パセリのみじん切り   \n",
      "20                   ★クローブ                白菜              トマト   \n",
      "21              ＃レッドチリパウダー             鱈（甘塩）             栗の渋煮   \n",
      "22                ＃クミンパウダー               油揚げ            生クリーム   \n",
      "23            ＃コリアンンダーパウダー     餃子（チルドでも冷凍でも）               牛乳   \n",
      "24                 ＃ガラムマサラ                 卵            ブランデー   \n",
      "25                 ＃ターメリック               キムチ               砂糖   \n",
      "26        サラントラ（コリアンダーリーブ）            ●鍋スープ●    ロールケーキ（焼いたもの）   \n",
      "27                    エリンギ              　だし汁             カワハギ   \n",
      "28                      舞茸               　醤油              ☆味噌   \n",
      "29                     白だし              　みりん             ☆みりん   \n",
      "..                     ...               ...              ...   \n",
      "288                     ○酢                ★酢                水   \n",
      "289           水（含しいたけの戻し汁）     ★ビール（発泡酒でもOK）            けちゃっぷ   \n",
      "290           長ネギ（白髪ネギにする）               ツナ缶          ウスターソース   \n",
      "291              じゃがいも（男爵）               トマト               醤油   \n",
      "292                   たまねぎ                ナス             大根の葉   \n",
      "293                    ツナ缶        マーガリンorバター             大根の皮   \n",
      "294                  塩コショウ                醤油              ごま油   \n",
      "295                    片栗粉              コショウ    タカラ「料理のための清酒」   \n",
      "296                      油                 酒             しょうゆ   \n",
      "297                    手羽先           お好みのパスタ            絹ごし豆腐   \n",
      "298                   トマト缶             むきあさり              上新粉   \n",
      "299                   にんにく              しいたけ              ★醤油   \n",
      "300                   ピーマン               えのき              ★砂糖   \n",
      "301                   エリンギ               しめじ               ★水   \n",
      "302                   まいたけ                 水             ★みりん   \n",
      "303  パセリ　イタリアンハーブミックス　粉チーズ                生姜         ★コーンスターチ   \n",
      "304                オリーブオイル                 酒             シチュー   \n",
      "305                固形スープの素              だしつゆ              食パン   \n",
      "306                      米               みりん          とろけるチーズ   \n",
      "307                   白ワイン                 酢         ブラックペッパー   \n",
      "308                  スパムハム              にんじん              トマト   \n",
      "309                     水菜               白胡麻             生バジル   \n",
      "310                     海苔                ご飯            アンチョビ   \n",
      "311                  マヨネーズ            水溶き片栗粉           サラダオイル   \n",
      "312                    ごはん                水菜                酢   \n",
      "313                ドライイースト               油揚げ                塩   \n",
      "314           （↑又はパネトーネマザー               ラー油             コショウ   \n",
      "315                     砂糖               お醤油       すりおろしたニンニク   \n",
      "316                    強力粉              レモン汁    パスタ(1.4mmくらい)   \n",
      "317                    薄力粉                お塩               小豆   \n",
      "\n",
      "                      2009                 2010               2011  \\\n",
      "0                      鶏がら              ＋ハンバーグ＋         ホットケーキミックス   \n",
      "1                        水               合挽ミンチ:      プレーンヨ−グルト(無糖)   \n",
      "2                       豆乳                たまねぎ:                  卵   \n",
      "3                     鶏もも肉                ニンジン:                 砂糖   \n",
      "4                       白菜                 たまご:                食用油   \n",
      "5                       ねぎ                 パン粉:               レモン汁   \n",
      "6                     焼き豆腐                  牛乳:       乳酸菌飲料(濃縮タイプ)   \n",
      "7                      えのき       ナツメグ･クローブ･タイム:                  鯖   \n",
      "8                      しめじ                塩･胡椒:                片栗粉   \n",
      "9                        塩                ＋ソース＋                揚げ油   \n",
      "10                      水種                 えのき:      漬け汁１．三倍濃縮めんつゆ   \n",
      "11         国産ﾊｰﾄﾞﾌﾞﾚｯﾄﾞ専用粉                  生姜:             漬け汁２．水   \n",
      "12                       水                  醤油:       漬け汁３．酢　　　　　　   \n",
      "13              ｻﾌﾄﾞﾗｲｲｰｽﾄ                   酒:     三浦大根（青首大根でもOK）   \n",
      "14                     本捏ね                 ◆下生地               レンコン   \n",
      "15         国産ﾊｰﾄﾞﾌﾞﾚｯﾄﾞ専用粉  ◇ｸﾞﾗﾊﾑｸﾗｯｶｰ          オータムポエム（他の青菜でもOK）   \n",
      "16                     黒小麦    ◇無塩ﾊﾞﾀｰ                     太刀魚三枚おろし   \n",
      "17              ｻﾌﾄﾞﾗｲｲｰｽﾄ  ｸﾘｰﾑﾁｰｽﾞ                         塩コショウ   \n",
      "18                      砂糖  ｻﾜｰｸﾘｰﾑ                              酒   \n",
      "19                       塩    砂糖                               片栗粉   \n",
      "20                       水   全卵                                ごま油   \n",
      "21          ﾍﾞｰｺﾝ、ﾁｰｽﾞ、甘納豆   卵黄                        【万能きのこあんかけ】   \n",
      "22             ご飯（炊きたてが良い）       レモン果汁                         しめじ   \n",
      "23                       卵      ｺｰﾝｽﾀｰﾁ                        えのき   \n",
      "24                     ごま油                   牛乳                玉ねぎ   \n",
      "25               白菜キムチ（市販）                生クリーム                青ネギ   \n",
      "26                     白ごま           ホワイトチョコ(板)             ●ウェイパー   \n",
      "27              キムチの素（あれば）                粉ゼラチン          ●オイスターソース   \n",
      "28                   ほうれん草             コンデンスミルク                 ●湯   \n",
      "29                     もやし                  薄力粉             水溶き片栗粉   \n",
      "..                     ...                  ...                ...   \n",
      "288                     砂糖                    水               しょうゆ   \n",
      "289                      塩                    塩                料理酒   \n",
      "290                ドライイースト                 コショウ              塩コショウ   \n",
      "291                  マーガリン            その他お好きな野菜              水(調整)   \n",
      "292                 照り用タマゴ                  手羽元              こんにゃく   \n",
      "293                   レーズン                   大根                ちくわ   \n",
      "294                  合いびき肉                  ゆで卵                 茄子   \n",
      "295                    玉ねぎ                  A　水             焼き肉のたれ   \n",
      "296                   ベーコン                  A　酒                 七味   \n",
      "297                   ピーマン                  A　酢               生おから   \n",
      "298                     お酒                 A　醤油                片栗粉   \n",
      "299                ウスターソース                 A　砂糖             顆粒コンソメ   \n",
      "300                  ケチャップ                   生姜    トマトピューレ（ムッティ使用）   \n",
      "301                     醤油                 サラダ油                  水   \n",
      "302                   カレー粉                 焼き胡桃              乾燥バジル   \n",
      "303     トッピング　ゆでたまご（みじん切り）                 新玉ねぎ              オリーブ油   \n",
      "304                    大根葉                  小松菜           シュレッドチーズ   \n",
      "305                 ﾏﾖﾈｰｽﾞ                   ツナ                 胡椒   \n",
      "306                   ●みりん                 薄口醤油                食パン   \n",
      "307                    ●醤油               粗挽き黒胡椒              マーガリン   \n",
      "308                  かつおぶし                 レモン汁                 砂糖   \n",
      "309                  残りカレー                 むきえび              焼きそば麺   \n",
      "310                  春巻きの皮                   豆腐                たらこ   \n",
      "311                とろけるチーズ                   水菜                 長葱   \n",
      "312                      油                新たまねぎ             サラダオイル   \n",
      "313                    NaN                 きゅうり                  塩   \n",
      "314                    薄力粉                   しそ                黒胡椒   \n",
      "315  ベーキングパウダー（一部重曹でもo.k.）                  ポン酢              大葉・小葱   \n",
      "316                      卵                  ごま油                 お酒   \n",
      "317                     砂糖                    米                 醤油   \n",
      "\n",
      "                      2012              2013                     2014  \n",
      "0                      豚こま               薄揚げ                  じゃがいも中玉  \n",
      "1                   ブロッコリー               うどん                     きゅうり  \n",
      "2                     たまねぎ               青ネギ             たらこクリームパスタの素  \n",
      "3                     にんじん              だしの素                    マヨネーズ  \n",
      "4                   ほうれんそう                醤油                        塩  \n",
      "5                      たまご               みりん                玉ねぎ(スライス)  \n",
      "6                     寿司めし                砂糖                   ブロッコリ−  \n",
      "7                     お煮しめ                 水                      きのこ  \n",
      "8                      伊達巻                一味                       ハム  \n",
      "9                    紅ショウガ                ご飯              イタリアンドレッシング  \n",
      "10               ギョウザの皮（大）           ポップコーン                       強力粉  \n",
      "11               ミックスフルーツ缶                 塩                       牛乳  \n",
      "12                     生ハム                茄子                        水  \n",
      "13                ナチュラルチーズ          サラダほうれん草                       砂糖  \n",
      "14               フルーツグラノーラ              ベーコン                        塩  \n",
      "15                     もやし              にんにく                    無塩バター  \n",
      "16                       水              レモン汁                  ドライイースト  \n",
      "17                       酢                醤油  ファミリーマートコレクション『ビアソーセージ』  \n",
      "18                      ハム                砂糖   ファミリーマートコレクション『塩味えだまめ』  \n",
      "19                    キャベツ             温かいご飯   ファミリーマートコレクション『ベビーチーズ』  \n",
      "20                      ツナ             鯖の水煮缶                      玉ねぎ  \n",
      "21                    マカロニ                 卵                   ピザ用チーズ  \n",
      "22             市販の胡麻ドレッシング                玉葱                  トマトの水煮缶  \n",
      "23                      海老                醤油                     タマネギ  \n",
      "24                     オクラ             塩コショウ                      鷹の爪  \n",
      "25                    にんにく  バター（バター入りマーガリン可）                     ニンニク  \n",
      "26                     バター         高野豆腐　（板状）                   コリアンダー  \n",
      "27                     塩胡椒               片栗粉                  クミンパウダー  \n",
      "28                      醤油                ねぎ                   チリパウダー  \n",
      "29                       酒                かぶ                    塩コショウ  \n",
      "..                     ...               ...                      ...  \n",
      "288              とんカツ(ロース)               ☆砂糖                       大根  \n",
      "289                    玉ねぎ             ☆すりごま                      明太子  \n",
      "290                     ●水   グリンピース（生。豆のみの量）                    マヨネーズ  \n",
      "291                  卵(L玉)                 米                      バター  \n",
      "292           ●かつおだしの素(顆粒)                 酒               小麦粉（強力粉でも）  \n",
      "293                     ●酒                 塩                       牛乳  \n",
      "294                    ●醤油           昆布茶(粉末)                   コーン缶詰め  \n",
      "295                    ●砂糖               みりん                     コンソメ  \n",
      "296                     ご飯               トマト                        水  \n",
      "297  １人分　カロリー約801㎉　塩分約4.5ｇ              紫玉ねぎ              クルトン（無くても可）  \n",
      "298               パッケージサラダ             ◆しょうゆ                    熱々ごはん  \n",
      "299               長崎皿うどんの麺                ◆酢                    ソーセージ  \n",
      "300               和風ドレッシング               ◆砂糖                      たまご  \n",
      "301                      米              ◆ごま油                       醤油  \n",
      "302                      酒                 米               にんにく(チューブ)  \n",
      "303                    みりん                昆布                    赤ピーマン  \n",
      "304                   しょう油                 水                     ピーマン  \n",
      "305                   干し椎茸            塩麹タケノコ                     鶏もも肉  \n",
      "306                      鮭      グリンピース(さやつき)                    ケチャップ  \n",
      "307                   塩こうじ                塩麹                   粗挽き黒胡椒  \n",
      "308                     紅鮭              だしの素             チェダーチーズ摩り下ろし  \n",
      "309                     大根    豚肉（こま切れ、バラ肉など）                  粒マスタード　  \n",
      "310                     人参                春菊                 白菜(ザク切り)  \n",
      "311            笹の葉(なくてもＯＫ)              エリンギ               あげ(たんざく切り)  \n",
      "312                     お米              にんじん                    乾燥わかめ  \n",
      "313                    乾燥麹              サラダ油                      NaN  \n",
      "314                     生姜             ＜調味料＞                        水  \n",
      "315                 輪切り唐辛子                味噌                       味噌  \n",
      "316                      酢             マヨネーズ                      NaN  \n",
      "317                    ささみ                砂糖              青ネギ(きざんでおく)  \n",
      "\n",
      "[318 rows x 17 columns]\n"
     ]
    }
   ],
   "source": [
    "print(inglist)"
   ]
  },
  {
   "cell_type": "code",
   "execution_count": 22,
   "metadata": {},
   "outputs": [
    {
     "ename": "ParserError",
     "evalue": "Error tokenizing data. C error: Expected 3 fields in line 258769, saw 8\n",
     "output_type": "error",
     "traceback": [
      "\u001b[0;31m---------------------------------------------------------------------------\u001b[0m",
      "\u001b[0;31mParserError\u001b[0m                               Traceback (most recent call last)",
      "\u001b[0;32m<ipython-input-22-71e361163bfd>\u001b[0m in \u001b[0;36m<module>\u001b[0;34m\u001b[0m\n\u001b[0;32m----> 1\u001b[0;31m \u001b[0ming09\u001b[0m \u001b[0;34m=\u001b[0m \u001b[0mpd\u001b[0m\u001b[0;34m.\u001b[0m\u001b[0mread_csv\u001b[0m\u001b[0;34m(\u001b[0m\u001b[0;34m\"ingredient2009.csv\"\u001b[0m\u001b[0;34m)\u001b[0m\u001b[0;34m\u001b[0m\u001b[0;34m\u001b[0m\u001b[0m\n\u001b[0m\u001b[1;32m      2\u001b[0m \u001b[0ming10\u001b[0m \u001b[0;34m=\u001b[0m \u001b[0mpd\u001b[0m\u001b[0;34m.\u001b[0m\u001b[0mread_csv\u001b[0m\u001b[0;34m(\u001b[0m\u001b[0;34m\"ingredient2010.csv\"\u001b[0m\u001b[0;34m)\u001b[0m\u001b[0;34m\u001b[0m\u001b[0;34m\u001b[0m\u001b[0m\n\u001b[1;32m      3\u001b[0m \u001b[0ming11\u001b[0m \u001b[0;34m=\u001b[0m \u001b[0mpd\u001b[0m\u001b[0;34m.\u001b[0m\u001b[0mread_csv\u001b[0m\u001b[0;34m(\u001b[0m\u001b[0;34m\"ingredient2011.csv\"\u001b[0m\u001b[0;34m)\u001b[0m\u001b[0;34m\u001b[0m\u001b[0;34m\u001b[0m\u001b[0m\n\u001b[1;32m      4\u001b[0m \u001b[0ming12\u001b[0m \u001b[0;34m=\u001b[0m \u001b[0mpd\u001b[0m\u001b[0;34m.\u001b[0m\u001b[0mread_csv\u001b[0m\u001b[0;34m(\u001b[0m\u001b[0;34m\"ingredient2012.csv\"\u001b[0m\u001b[0;34m)\u001b[0m\u001b[0;34m\u001b[0m\u001b[0;34m\u001b[0m\u001b[0m\n\u001b[1;32m      5\u001b[0m \u001b[0ming13\u001b[0m \u001b[0;34m=\u001b[0m \u001b[0mpd\u001b[0m\u001b[0;34m.\u001b[0m\u001b[0mread_csv\u001b[0m\u001b[0;34m(\u001b[0m\u001b[0;34m\"ingredient2013.csv\"\u001b[0m\u001b[0;34m)\u001b[0m\u001b[0;34m\u001b[0m\u001b[0;34m\u001b[0m\u001b[0m\n",
      "\u001b[0;32m~/anaconda3/lib/python3.7/site-packages/pandas/io/parsers.py\u001b[0m in \u001b[0;36mparser_f\u001b[0;34m(filepath_or_buffer, sep, delimiter, header, names, index_col, usecols, squeeze, prefix, mangle_dupe_cols, dtype, engine, converters, true_values, false_values, skipinitialspace, skiprows, skipfooter, nrows, na_values, keep_default_na, na_filter, verbose, skip_blank_lines, parse_dates, infer_datetime_format, keep_date_col, date_parser, dayfirst, iterator, chunksize, compression, thousands, decimal, lineterminator, quotechar, quoting, doublequote, escapechar, comment, encoding, dialect, tupleize_cols, error_bad_lines, warn_bad_lines, delim_whitespace, low_memory, memory_map, float_precision)\u001b[0m\n\u001b[1;32m    700\u001b[0m                     skip_blank_lines=skip_blank_lines)\n\u001b[1;32m    701\u001b[0m \u001b[0;34m\u001b[0m\u001b[0m\n\u001b[0;32m--> 702\u001b[0;31m         \u001b[0;32mreturn\u001b[0m \u001b[0m_read\u001b[0m\u001b[0;34m(\u001b[0m\u001b[0mfilepath_or_buffer\u001b[0m\u001b[0;34m,\u001b[0m \u001b[0mkwds\u001b[0m\u001b[0;34m)\u001b[0m\u001b[0;34m\u001b[0m\u001b[0;34m\u001b[0m\u001b[0m\n\u001b[0m\u001b[1;32m    703\u001b[0m \u001b[0;34m\u001b[0m\u001b[0m\n\u001b[1;32m    704\u001b[0m     \u001b[0mparser_f\u001b[0m\u001b[0;34m.\u001b[0m\u001b[0m__name__\u001b[0m \u001b[0;34m=\u001b[0m \u001b[0mname\u001b[0m\u001b[0;34m\u001b[0m\u001b[0;34m\u001b[0m\u001b[0m\n",
      "\u001b[0;32m~/anaconda3/lib/python3.7/site-packages/pandas/io/parsers.py\u001b[0m in \u001b[0;36m_read\u001b[0;34m(filepath_or_buffer, kwds)\u001b[0m\n\u001b[1;32m    433\u001b[0m \u001b[0;34m\u001b[0m\u001b[0m\n\u001b[1;32m    434\u001b[0m     \u001b[0;32mtry\u001b[0m\u001b[0;34m:\u001b[0m\u001b[0;34m\u001b[0m\u001b[0;34m\u001b[0m\u001b[0m\n\u001b[0;32m--> 435\u001b[0;31m         \u001b[0mdata\u001b[0m \u001b[0;34m=\u001b[0m \u001b[0mparser\u001b[0m\u001b[0;34m.\u001b[0m\u001b[0mread\u001b[0m\u001b[0;34m(\u001b[0m\u001b[0mnrows\u001b[0m\u001b[0;34m)\u001b[0m\u001b[0;34m\u001b[0m\u001b[0;34m\u001b[0m\u001b[0m\n\u001b[0m\u001b[1;32m    436\u001b[0m     \u001b[0;32mfinally\u001b[0m\u001b[0;34m:\u001b[0m\u001b[0;34m\u001b[0m\u001b[0;34m\u001b[0m\u001b[0m\n\u001b[1;32m    437\u001b[0m         \u001b[0mparser\u001b[0m\u001b[0;34m.\u001b[0m\u001b[0mclose\u001b[0m\u001b[0;34m(\u001b[0m\u001b[0;34m)\u001b[0m\u001b[0;34m\u001b[0m\u001b[0;34m\u001b[0m\u001b[0m\n",
      "\u001b[0;32m~/anaconda3/lib/python3.7/site-packages/pandas/io/parsers.py\u001b[0m in \u001b[0;36mread\u001b[0;34m(self, nrows)\u001b[0m\n\u001b[1;32m   1137\u001b[0m     \u001b[0;32mdef\u001b[0m \u001b[0mread\u001b[0m\u001b[0;34m(\u001b[0m\u001b[0mself\u001b[0m\u001b[0;34m,\u001b[0m \u001b[0mnrows\u001b[0m\u001b[0;34m=\u001b[0m\u001b[0;32mNone\u001b[0m\u001b[0;34m)\u001b[0m\u001b[0;34m:\u001b[0m\u001b[0;34m\u001b[0m\u001b[0;34m\u001b[0m\u001b[0m\n\u001b[1;32m   1138\u001b[0m         \u001b[0mnrows\u001b[0m \u001b[0;34m=\u001b[0m \u001b[0m_validate_integer\u001b[0m\u001b[0;34m(\u001b[0m\u001b[0;34m'nrows'\u001b[0m\u001b[0;34m,\u001b[0m \u001b[0mnrows\u001b[0m\u001b[0;34m)\u001b[0m\u001b[0;34m\u001b[0m\u001b[0;34m\u001b[0m\u001b[0m\n\u001b[0;32m-> 1139\u001b[0;31m         \u001b[0mret\u001b[0m \u001b[0;34m=\u001b[0m \u001b[0mself\u001b[0m\u001b[0;34m.\u001b[0m\u001b[0m_engine\u001b[0m\u001b[0;34m.\u001b[0m\u001b[0mread\u001b[0m\u001b[0;34m(\u001b[0m\u001b[0mnrows\u001b[0m\u001b[0;34m)\u001b[0m\u001b[0;34m\u001b[0m\u001b[0;34m\u001b[0m\u001b[0m\n\u001b[0m\u001b[1;32m   1140\u001b[0m \u001b[0;34m\u001b[0m\u001b[0m\n\u001b[1;32m   1141\u001b[0m         \u001b[0;31m# May alter columns / col_dict\u001b[0m\u001b[0;34m\u001b[0m\u001b[0;34m\u001b[0m\u001b[0;34m\u001b[0m\u001b[0m\n",
      "\u001b[0;32m~/anaconda3/lib/python3.7/site-packages/pandas/io/parsers.py\u001b[0m in \u001b[0;36mread\u001b[0;34m(self, nrows)\u001b[0m\n\u001b[1;32m   1993\u001b[0m     \u001b[0;32mdef\u001b[0m \u001b[0mread\u001b[0m\u001b[0;34m(\u001b[0m\u001b[0mself\u001b[0m\u001b[0;34m,\u001b[0m \u001b[0mnrows\u001b[0m\u001b[0;34m=\u001b[0m\u001b[0;32mNone\u001b[0m\u001b[0;34m)\u001b[0m\u001b[0;34m:\u001b[0m\u001b[0;34m\u001b[0m\u001b[0;34m\u001b[0m\u001b[0m\n\u001b[1;32m   1994\u001b[0m         \u001b[0;32mtry\u001b[0m\u001b[0;34m:\u001b[0m\u001b[0;34m\u001b[0m\u001b[0;34m\u001b[0m\u001b[0m\n\u001b[0;32m-> 1995\u001b[0;31m             \u001b[0mdata\u001b[0m \u001b[0;34m=\u001b[0m \u001b[0mself\u001b[0m\u001b[0;34m.\u001b[0m\u001b[0m_reader\u001b[0m\u001b[0;34m.\u001b[0m\u001b[0mread\u001b[0m\u001b[0;34m(\u001b[0m\u001b[0mnrows\u001b[0m\u001b[0;34m)\u001b[0m\u001b[0;34m\u001b[0m\u001b[0;34m\u001b[0m\u001b[0m\n\u001b[0m\u001b[1;32m   1996\u001b[0m         \u001b[0;32mexcept\u001b[0m \u001b[0mStopIteration\u001b[0m\u001b[0;34m:\u001b[0m\u001b[0;34m\u001b[0m\u001b[0;34m\u001b[0m\u001b[0m\n\u001b[1;32m   1997\u001b[0m             \u001b[0;32mif\u001b[0m \u001b[0mself\u001b[0m\u001b[0;34m.\u001b[0m\u001b[0m_first_chunk\u001b[0m\u001b[0;34m:\u001b[0m\u001b[0;34m\u001b[0m\u001b[0;34m\u001b[0m\u001b[0m\n",
      "\u001b[0;32mpandas/_libs/parsers.pyx\u001b[0m in \u001b[0;36mpandas._libs.parsers.TextReader.read\u001b[0;34m()\u001b[0m\n",
      "\u001b[0;32mpandas/_libs/parsers.pyx\u001b[0m in \u001b[0;36mpandas._libs.parsers.TextReader._read_low_memory\u001b[0;34m()\u001b[0m\n",
      "\u001b[0;32mpandas/_libs/parsers.pyx\u001b[0m in \u001b[0;36mpandas._libs.parsers.TextReader._read_rows\u001b[0;34m()\u001b[0m\n",
      "\u001b[0;32mpandas/_libs/parsers.pyx\u001b[0m in \u001b[0;36mpandas._libs.parsers.TextReader._tokenize_rows\u001b[0;34m()\u001b[0m\n",
      "\u001b[0;32mpandas/_libs/parsers.pyx\u001b[0m in \u001b[0;36mpandas._libs.parsers.raise_parser_error\u001b[0;34m()\u001b[0m\n",
      "\u001b[0;31mParserError\u001b[0m: Error tokenizing data. C error: Expected 3 fields in line 258769, saw 8\n"
     ]
    }
   ],
   "source": [
    "ing09 = pd.read_csv(\"ingredient2009.csv\")\n",
    "ing10 = pd.read_csv(\"ingredient2010.csv\")\n",
    "ing11 = pd.read_csv(\"ingredient2011.csv\")\n",
    "ing12 = pd.read_csv(\"ingredient2012.csv\")\n",
    "ing13 = pd.read_csv(\"ingredient2013.csv\")\n",
    "ing14 = pd.read_csv(\"ingredient2014.csv\")"
   ]
  },
  {
   "cell_type": "code",
   "execution_count": 23,
   "metadata": {},
   "outputs": [],
   "source": [
    "ing09 = pd.read_csv(\"ingredient2009.csv\",names = col_name)\n",
    "ing10 = pd.read_csv(\"ingredient2010.csv\",names = col_name)\n",
    "ing11 = pd.read_csv(\"ingredient2011.csv\",names = col_name)\n",
    "ing12 = pd.read_csv(\"ingredient2012.csv\",names = col_name)\n",
    "ing13 = pd.read_csv(\"ingredient2013.csv\",names = col_name)\n",
    "ing14 = pd.read_csv(\"ingredient2014.csv\",names = col_name)"
   ]
  },
  {
   "cell_type": "code",
   "execution_count": 24,
   "metadata": {},
   "outputs": [
    {
     "data": {
      "text/plain": [
       "1546742"
      ]
     },
     "execution_count": 24,
     "metadata": {},
     "output_type": "execute_result"
    }
   ],
   "source": [
    "len(ing09.index)\n",
    "len(ing10.index)\n",
    "len(ing11.index)\n",
    "len(ing12.index)\n",
    "len(ing13.index)\n",
    "len(ing14.index)"
   ]
  },
  {
   "cell_type": "code",
   "execution_count": 25,
   "metadata": {},
   "outputs": [
    {
     "data": {
      "text/plain": [
       "1522919"
      ]
     },
     "execution_count": 25,
     "metadata": {},
     "output_type": "execute_result"
    }
   ],
   "source": [
    "len(ing09.index)"
   ]
  },
  {
   "cell_type": "code",
   "execution_count": 26,
   "metadata": {},
   "outputs": [
    {
     "data": {
      "text/plain": [
       "1635166"
      ]
     },
     "execution_count": 26,
     "metadata": {},
     "output_type": "execute_result"
    }
   ],
   "source": [
    "len(ing10.index)"
   ]
  },
  {
   "cell_type": "code",
   "execution_count": 27,
   "metadata": {},
   "outputs": [
    {
     "data": {
      "text/plain": [
       "1483444"
      ]
     },
     "execution_count": 27,
     "metadata": {},
     "output_type": "execute_result"
    }
   ],
   "source": [
    "len(ing11.index)"
   ]
  },
  {
   "cell_type": "code",
   "execution_count": 28,
   "metadata": {},
   "outputs": [
    {
     "data": {
      "text/plain": [
       "1866147"
      ]
     },
     "execution_count": 28,
     "metadata": {},
     "output_type": "execute_result"
    }
   ],
   "source": [
    "len(ing12.index)"
   ]
  },
  {
   "cell_type": "code",
   "execution_count": 29,
   "metadata": {},
   "outputs": [
    {
     "data": {
      "text/plain": [
       "1737302"
      ]
     },
     "execution_count": 29,
     "metadata": {},
     "output_type": "execute_result"
    }
   ],
   "source": [
    "len(ing13.index)"
   ]
  },
  {
   "cell_type": "code",
   "execution_count": 30,
   "metadata": {},
   "outputs": [
    {
     "data": {
      "text/plain": [
       "1546742"
      ]
     },
     "execution_count": 30,
     "metadata": {},
     "output_type": "execute_result"
    }
   ],
   "source": [
    "len(ing14.index)"
   ]
  },
  {
   "cell_type": "code",
   "execution_count": 31,
   "metadata": {},
   "outputs": [],
   "source": [
    "import numpy as np\n",
    "df = pd.DataFrame(np.random.random([1866147, 1]), columns=['none'])\n",
    "inglist = pd.DataFrame(index=df.index, columns=[])"
   ]
  },
  {
   "cell_type": "code",
   "execution_count": 32,
   "metadata": {
    "scrolled": true
   },
   "outputs": [
    {
     "data": {
      "text/html": [
       "<div>\n",
       "<style scoped>\n",
       "    .dataframe tbody tr th:only-of-type {\n",
       "        vertical-align: middle;\n",
       "    }\n",
       "\n",
       "    .dataframe tbody tr th {\n",
       "        vertical-align: top;\n",
       "    }\n",
       "\n",
       "    .dataframe thead th {\n",
       "        text-align: right;\n",
       "    }\n",
       "</style>\n",
       "<table border=\"1\" class=\"dataframe\">\n",
       "  <thead>\n",
       "    <tr style=\"text-align: right;\">\n",
       "      <th></th>\n",
       "      <th>1998</th>\n",
       "      <th>1999</th>\n",
       "      <th>2000</th>\n",
       "      <th>2001</th>\n",
       "      <th>2002</th>\n",
       "      <th>2003</th>\n",
       "      <th>2004</th>\n",
       "      <th>2005</th>\n",
       "      <th>2006</th>\n",
       "      <th>2007</th>\n",
       "      <th>2008</th>\n",
       "      <th>2009</th>\n",
       "      <th>2010</th>\n",
       "      <th>2011</th>\n",
       "      <th>2012</th>\n",
       "      <th>2013</th>\n",
       "      <th>2014</th>\n",
       "    </tr>\n",
       "  </thead>\n",
       "  <tbody>\n",
       "    <tr>\n",
       "      <th>0</th>\n",
       "      <td>スライスチーズ</td>\n",
       "      <td>カルピス</td>\n",
       "      <td>パスタ</td>\n",
       "      <td>赤じそ</td>\n",
       "      <td>なす</td>\n",
       "      <td>はんぺん</td>\n",
       "      <td>薄力粉</td>\n",
       "      <td>クリームチーズ</td>\n",
       "      <td>ブルーベリー</td>\n",
       "      <td>白菜</td>\n",
       "      <td>にんじん</td>\n",
       "      <td>鶏がら</td>\n",
       "      <td>＋ハンバーグ＋</td>\n",
       "      <td>ホットケーキミックス</td>\n",
       "      <td>豚こま</td>\n",
       "      <td>薄揚げ</td>\n",
       "      <td>じゃがいも中玉</td>\n",
       "    </tr>\n",
       "    <tr>\n",
       "      <th>1</th>\n",
       "      <td>チキンブイヨン</td>\n",
       "      <td>牛乳</td>\n",
       "      <td>キュウリ</td>\n",
       "      <td>塩</td>\n",
       "      <td>大葉</td>\n",
       "      <td>スライスチーズ</td>\n",
       "      <td>アーモンドプードル</td>\n",
       "      <td>サワークリーム</td>\n",
       "      <td>りんご酢</td>\n",
       "      <td>肉（豚or牛）</td>\n",
       "      <td>ごま油</td>\n",
       "      <td>水</td>\n",
       "      <td>合挽ミンチ:</td>\n",
       "      <td>プレーンヨ−グルト(無糖)</td>\n",
       "      <td>ブロッコリー</td>\n",
       "      <td>うどん</td>\n",
       "      <td>きゅうり</td>\n",
       "    </tr>\n",
       "    <tr>\n",
       "      <th>2</th>\n",
       "      <td>白米</td>\n",
       "      <td>炭酸水</td>\n",
       "      <td>レタス</td>\n",
       "      <td>砂糖</td>\n",
       "      <td>からし</td>\n",
       "      <td>しょう油</td>\n",
       "      <td>無塩バター</td>\n",
       "      <td>砂糖</td>\n",
       "      <td>氷砂糖</td>\n",
       "      <td>めんつゆ</td>\n",
       "      <td>塩コショウ</td>\n",
       "      <td>豆乳</td>\n",
       "      <td>たまねぎ:</td>\n",
       "      <td>卵</td>\n",
       "      <td>たまねぎ</td>\n",
       "      <td>青ネギ</td>\n",
       "      <td>たらこクリームパスタの素</td>\n",
       "    </tr>\n",
       "    <tr>\n",
       "      <th>3</th>\n",
       "      <td>鮭</td>\n",
       "      <td>マグロ中落ち</td>\n",
       "      <td>鶏肉</td>\n",
       "      <td>ホワイトリカー</td>\n",
       "      <td>だししょうゆ</td>\n",
       "      <td>わさび</td>\n",
       "      <td>卵黄</td>\n",
       "      <td>卵</td>\n",
       "      <td>ほうれん草</td>\n",
       "      <td>◎紅茶ティパック(アールグレイ)</td>\n",
       "      <td>パスタ</td>\n",
       "      <td>鶏もも肉</td>\n",
       "      <td>ニンジン:</td>\n",
       "      <td>砂糖</td>\n",
       "      <td>にんじん</td>\n",
       "      <td>だしの素</td>\n",
       "      <td>マヨネーズ</td>\n",
       "    </tr>\n",
       "    <tr>\n",
       "      <th>4</th>\n",
       "      <td>たまねぎ</td>\n",
       "      <td>アボガド</td>\n",
       "      <td>塩</td>\n",
       "      <td>アカハラ</td>\n",
       "      <td>サラダ油</td>\n",
       "      <td>バター</td>\n",
       "      <td>グラニュー糖</td>\n",
       "      <td>レモンの絞り汁</td>\n",
       "      <td>ひき肉</td>\n",
       "      <td>●ゼラチン</td>\n",
       "      <td>アボカド</td>\n",
       "      <td>白菜</td>\n",
       "      <td>たまご:</td>\n",
       "      <td>食用油</td>\n",
       "      <td>ほうれんそう</td>\n",
       "      <td>醤油</td>\n",
       "      <td>塩</td>\n",
       "    </tr>\n",
       "  </tbody>\n",
       "</table>\n",
       "</div>"
      ],
      "text/plain": [
       "      1998    1999  2000     2001    2002     2003       2004     2005  \\\n",
       "0  スライスチーズ    カルピス   パスタ      赤じそ      なす     はんぺん        薄力粉  クリームチーズ   \n",
       "1  チキンブイヨン      牛乳  キュウリ        塩      大葉  スライスチーズ  アーモンドプードル  サワークリーム   \n",
       "2       白米     炭酸水   レタス       砂糖     からし     しょう油      無塩バター       砂糖   \n",
       "3        鮭  マグロ中落ち    鶏肉  ホワイトリカー  だししょうゆ      わさび         卵黄        卵   \n",
       "4     たまねぎ    アボガド     塩     アカハラ    サラダ油      バター     グラニュー糖  レモンの絞り汁   \n",
       "\n",
       "     2006              2007   2008  2009     2010           2011    2012  \\\n",
       "0  ブルーベリー                白菜   にんじん   鶏がら  ＋ハンバーグ＋     ホットケーキミックス     豚こま   \n",
       "1    りんご酢           肉（豚or牛）    ごま油     水   合挽ミンチ:  プレーンヨ−グルト(無糖)  ブロッコリー   \n",
       "2     氷砂糖              めんつゆ  塩コショウ    豆乳    たまねぎ:              卵    たまねぎ   \n",
       "3   ほうれん草  ◎紅茶ティパック(アールグレイ)    パスタ  鶏もも肉    ニンジン:             砂糖    にんじん   \n",
       "4     ひき肉             ●ゼラチン   アボカド    白菜     たまご:            食用油  ほうれんそう   \n",
       "\n",
       "   2013          2014  \n",
       "0   薄揚げ       じゃがいも中玉  \n",
       "1   うどん          きゅうり  \n",
       "2   青ネギ  たらこクリームパスタの素  \n",
       "3  だしの素         マヨネーズ  \n",
       "4    醤油             塩  "
      ]
     },
     "execution_count": 32,
     "metadata": {},
     "output_type": "execute_result"
    }
   ],
   "source": [
    "for i in range(1998,2015):\n",
    "    inglist[i] = pd.read_csv(\"ingredient{}.csv\".format(i) ,names = col_name)['食材']\n",
    "inglist.head()"
   ]
  },
  {
   "cell_type": "code",
   "execution_count": 35,
   "metadata": {
    "scrolled": true
   },
   "outputs": [
    {
     "data": {
      "text/plain": [
       "1998      1\n",
       "1999      3\n",
       "2000     15\n",
       "2001     18\n",
       "2002     42\n",
       "2003     70\n",
       "2004     77\n",
       "2005     66\n",
       "2006    157\n",
       "2007    275\n",
       "2008    271\n",
       "2009    402\n",
       "2010    442\n",
       "2011    328\n",
       "2012    546\n",
       "2013    428\n",
       "2014    326\n",
       "dtype: int64"
      ]
     },
     "execution_count": 35,
     "metadata": {},
     "output_type": "execute_result"
    }
   ],
   "source": [
    "inglist.isin([\"アボガド\"]).sum()"
   ]
  },
  {
   "cell_type": "code",
   "execution_count": 36,
   "metadata": {},
   "outputs": [
    {
     "data": {
      "text/plain": [
       "1998       0\n",
       "1999       0\n",
       "2000       9\n",
       "2001      28\n",
       "2002      60\n",
       "2003     110\n",
       "2004     131\n",
       "2005     170\n",
       "2006     367\n",
       "2007     866\n",
       "2008     972\n",
       "2009    1454\n",
       "2010    2219\n",
       "2011    1675\n",
       "2012    3155\n",
       "2013    2991\n",
       "2014    2503\n",
       "dtype: int64"
      ]
     },
     "execution_count": 36,
     "metadata": {},
     "output_type": "execute_result"
    }
   ],
   "source": [
    "inglist.isin([\"アボカド\"]).sum()"
   ]
  },
  {
   "cell_type": "code",
   "execution_count": 1,
   "metadata": {},
   "outputs": [
    {
     "ename": "NameError",
     "evalue": "name 'inglist' is not defined",
     "output_type": "error",
     "traceback": [
      "\u001b[0;31m---------------------------------------------------------------------------\u001b[0m",
      "\u001b[0;31mNameError\u001b[0m                                 Traceback (most recent call last)",
      "\u001b[0;32m<ipython-input-1-ac8b1e50ac6e>\u001b[0m in \u001b[0;36m<module>\u001b[0;34m\u001b[0m\n\u001b[0;32m----> 1\u001b[0;31m \u001b[0minglist\u001b[0m\u001b[0;34m.\u001b[0m\u001b[0mhead\u001b[0m\u001b[0;34m(\u001b[0m\u001b[0;34m)\u001b[0m\u001b[0;34m\u001b[0m\u001b[0;34m\u001b[0m\u001b[0m\n\u001b[0m",
      "\u001b[0;31mNameError\u001b[0m: name 'inglist' is not defined"
     ]
    }
   ],
   "source": [
    "inglist.head()"
   ]
  },
  {
   "cell_type": "code",
   "execution_count": 2,
   "metadata": {},
   "outputs": [],
   "source": [
    "import pandas as pd\n",
    "import numpy as np\n",
    "\n",
    "df = pd.DataFrame(np.random.random([1866147, 1]), columns=['none'])\n",
    "inglist = pd.DataFrame(index=df.index, columns=[])"
   ]
  },
  {
   "cell_type": "code",
   "execution_count": 4,
   "metadata": {},
   "outputs": [],
   "source": [
    "import os\n",
    "os.chdir('/Users/furutasatoru/Documents/大学/シス創/大規模データ分析/ingredient')"
   ]
  },
  {
   "cell_type": "code",
   "execution_count": 5,
   "metadata": {},
   "outputs": [
    {
     "name": "stderr",
     "output_type": "stream",
     "text": [
      "/Users/furutasatoru/anaconda3/lib/python3.7/site-packages/IPython/core/interactiveshell.py:3049: DtypeWarning: Columns (3,4) have mixed types. Specify dtype option on import or set low_memory=False.\n",
      "  interactivity=interactivity, compiler=compiler, result=result)\n",
      "/Users/furutasatoru/anaconda3/lib/python3.7/site-packages/IPython/core/interactiveshell.py:3049: DtypeWarning: Columns (3) have mixed types. Specify dtype option on import or set low_memory=False.\n",
      "  interactivity=interactivity, compiler=compiler, result=result)\n"
     ]
    },
    {
     "data": {
      "text/html": [
       "<div>\n",
       "<style scoped>\n",
       "    .dataframe tbody tr th:only-of-type {\n",
       "        vertical-align: middle;\n",
       "    }\n",
       "\n",
       "    .dataframe tbody tr th {\n",
       "        vertical-align: top;\n",
       "    }\n",
       "\n",
       "    .dataframe thead th {\n",
       "        text-align: right;\n",
       "    }\n",
       "</style>\n",
       "<table border=\"1\" class=\"dataframe\">\n",
       "  <thead>\n",
       "    <tr style=\"text-align: right;\">\n",
       "      <th></th>\n",
       "      <th>1998</th>\n",
       "      <th>1999</th>\n",
       "      <th>2000</th>\n",
       "      <th>2001</th>\n",
       "      <th>2002</th>\n",
       "      <th>2003</th>\n",
       "      <th>2004</th>\n",
       "      <th>2005</th>\n",
       "      <th>2006</th>\n",
       "      <th>2007</th>\n",
       "      <th>2008</th>\n",
       "      <th>2009</th>\n",
       "      <th>2010</th>\n",
       "      <th>2011</th>\n",
       "      <th>2012</th>\n",
       "      <th>2013</th>\n",
       "      <th>2014</th>\n",
       "    </tr>\n",
       "  </thead>\n",
       "  <tbody>\n",
       "    <tr>\n",
       "      <th>0</th>\n",
       "      <td>スライスチーズ</td>\n",
       "      <td>カルピス</td>\n",
       "      <td>パスタ</td>\n",
       "      <td>赤じそ</td>\n",
       "      <td>なす</td>\n",
       "      <td>はんぺん</td>\n",
       "      <td>薄力粉</td>\n",
       "      <td>クリームチーズ</td>\n",
       "      <td>ブルーベリー</td>\n",
       "      <td>白菜</td>\n",
       "      <td>にんじん</td>\n",
       "      <td>鶏がら</td>\n",
       "      <td>＋ハンバーグ＋</td>\n",
       "      <td>ホットケーキミックス</td>\n",
       "      <td>豚こま</td>\n",
       "      <td>薄揚げ</td>\n",
       "      <td>じゃがいも中玉</td>\n",
       "    </tr>\n",
       "    <tr>\n",
       "      <th>1</th>\n",
       "      <td>チキンブイヨン</td>\n",
       "      <td>牛乳</td>\n",
       "      <td>キュウリ</td>\n",
       "      <td>塩</td>\n",
       "      <td>大葉</td>\n",
       "      <td>スライスチーズ</td>\n",
       "      <td>アーモンドプードル</td>\n",
       "      <td>サワークリーム</td>\n",
       "      <td>りんご酢</td>\n",
       "      <td>肉（豚or牛）</td>\n",
       "      <td>ごま油</td>\n",
       "      <td>水</td>\n",
       "      <td>合挽ミンチ:</td>\n",
       "      <td>プレーンヨ−グルト(無糖)</td>\n",
       "      <td>ブロッコリー</td>\n",
       "      <td>うどん</td>\n",
       "      <td>きゅうり</td>\n",
       "    </tr>\n",
       "    <tr>\n",
       "      <th>2</th>\n",
       "      <td>白米</td>\n",
       "      <td>炭酸水</td>\n",
       "      <td>レタス</td>\n",
       "      <td>砂糖</td>\n",
       "      <td>からし</td>\n",
       "      <td>しょう油</td>\n",
       "      <td>無塩バター</td>\n",
       "      <td>砂糖</td>\n",
       "      <td>氷砂糖</td>\n",
       "      <td>めんつゆ</td>\n",
       "      <td>塩コショウ</td>\n",
       "      <td>豆乳</td>\n",
       "      <td>たまねぎ:</td>\n",
       "      <td>卵</td>\n",
       "      <td>たまねぎ</td>\n",
       "      <td>青ネギ</td>\n",
       "      <td>たらこクリームパスタの素</td>\n",
       "    </tr>\n",
       "    <tr>\n",
       "      <th>3</th>\n",
       "      <td>鮭</td>\n",
       "      <td>マグロ中落ち</td>\n",
       "      <td>鶏肉</td>\n",
       "      <td>ホワイトリカー</td>\n",
       "      <td>だししょうゆ</td>\n",
       "      <td>わさび</td>\n",
       "      <td>卵黄</td>\n",
       "      <td>卵</td>\n",
       "      <td>ほうれん草</td>\n",
       "      <td>◎紅茶ティパック(アールグレイ)</td>\n",
       "      <td>パスタ</td>\n",
       "      <td>鶏もも肉</td>\n",
       "      <td>ニンジン:</td>\n",
       "      <td>砂糖</td>\n",
       "      <td>にんじん</td>\n",
       "      <td>だしの素</td>\n",
       "      <td>マヨネーズ</td>\n",
       "    </tr>\n",
       "    <tr>\n",
       "      <th>4</th>\n",
       "      <td>たまねぎ</td>\n",
       "      <td>アボガド</td>\n",
       "      <td>塩</td>\n",
       "      <td>アカハラ</td>\n",
       "      <td>サラダ油</td>\n",
       "      <td>バター</td>\n",
       "      <td>グラニュー糖</td>\n",
       "      <td>レモンの絞り汁</td>\n",
       "      <td>ひき肉</td>\n",
       "      <td>●ゼラチン</td>\n",
       "      <td>アボカド</td>\n",
       "      <td>白菜</td>\n",
       "      <td>たまご:</td>\n",
       "      <td>食用油</td>\n",
       "      <td>ほうれんそう</td>\n",
       "      <td>醤油</td>\n",
       "      <td>塩</td>\n",
       "    </tr>\n",
       "  </tbody>\n",
       "</table>\n",
       "</div>"
      ],
      "text/plain": [
       "      1998    1999  2000     2001    2002     2003       2004     2005  \\\n",
       "0  スライスチーズ    カルピス   パスタ      赤じそ      なす     はんぺん        薄力粉  クリームチーズ   \n",
       "1  チキンブイヨン      牛乳  キュウリ        塩      大葉  スライスチーズ  アーモンドプードル  サワークリーム   \n",
       "2       白米     炭酸水   レタス       砂糖     からし     しょう油      無塩バター       砂糖   \n",
       "3        鮭  マグロ中落ち    鶏肉  ホワイトリカー  だししょうゆ      わさび         卵黄        卵   \n",
       "4     たまねぎ    アボガド     塩     アカハラ    サラダ油      バター     グラニュー糖  レモンの絞り汁   \n",
       "\n",
       "     2006              2007   2008  2009     2010           2011    2012  \\\n",
       "0  ブルーベリー                白菜   にんじん   鶏がら  ＋ハンバーグ＋     ホットケーキミックス     豚こま   \n",
       "1    りんご酢           肉（豚or牛）    ごま油     水   合挽ミンチ:  プレーンヨ−グルト(無糖)  ブロッコリー   \n",
       "2     氷砂糖              めんつゆ  塩コショウ    豆乳    たまねぎ:              卵    たまねぎ   \n",
       "3   ほうれん草  ◎紅茶ティパック(アールグレイ)    パスタ  鶏もも肉    ニンジン:             砂糖    にんじん   \n",
       "4     ひき肉             ●ゼラチン   アボカド    白菜     たまご:            食用油  ほうれんそう   \n",
       "\n",
       "   2013          2014  \n",
       "0   薄揚げ       じゃがいも中玉  \n",
       "1   うどん          きゅうり  \n",
       "2   青ネギ  たらこクリームパスタの素  \n",
       "3  だしの素         マヨネーズ  \n",
       "4    醤油             塩  "
      ]
     },
     "execution_count": 5,
     "metadata": {},
     "output_type": "execute_result"
    }
   ],
   "source": [
    "col_name = ['ID', '食材', 'コメント', '予備1','予備2']\n",
    "for i in range(1998,2015):\n",
    "    inglist[i] = pd.read_csv(\"ingredient{}.csv\".format(i) ,names = col_name)['食材']\n",
    "inglist.head()"
   ]
  },
  {
   "cell_type": "code",
   "execution_count": 6,
   "metadata": {},
   "outputs": [],
   "source": [
    "ing_unique = ['アボカド', '塩']"
   ]
  },
  {
   "cell_type": "code",
   "execution_count": 7,
   "metadata": {},
   "outputs": [],
   "source": [
    "for r in ing_unique:\n",
    "    inglist.isin([r]).sum()"
   ]
  },
  {
   "cell_type": "code",
   "execution_count": 8,
   "metadata": {},
   "outputs": [],
   "source": [
    "ing_unique = ['アボカド']\n",
    "for r in ing_unique:\n",
    "    inglist.isin([r]).sum()"
   ]
  },
  {
   "cell_type": "code",
   "execution_count": 9,
   "metadata": {},
   "outputs": [
    {
     "name": "stdout",
     "output_type": "stream",
     "text": [
      "アボカド\n",
      "塩\n"
     ]
    }
   ],
   "source": [
    "ing_unique = ['アボカド', '塩']\n",
    "for r in ing_unique:\n",
    "    print(r)"
   ]
  },
  {
   "cell_type": "code",
   "execution_count": 10,
   "metadata": {},
   "outputs": [
    {
     "name": "stdout",
     "output_type": "stream",
     "text": [
      "アボカド\n"
     ]
    }
   ],
   "source": [
    "print('アボカド')"
   ]
  },
  {
   "cell_type": "code",
   "execution_count": 11,
   "metadata": {},
   "outputs": [
    {
     "name": "stdout",
     "output_type": "stream",
     "text": [
      "1998       0\n",
      "1999       0\n",
      "2000       9\n",
      "2001      28\n",
      "2002      60\n",
      "2003     110\n",
      "2004     131\n",
      "2005     170\n",
      "2006     367\n",
      "2007     866\n",
      "2008     972\n",
      "2009    1454\n",
      "2010    2219\n",
      "2011    1675\n",
      "2012    3155\n",
      "2013    2991\n",
      "2014    2503\n",
      "dtype: int64\n"
     ]
    }
   ],
   "source": [
    "ing_unique = ['アボカド']\n",
    "for r in ing_unique:\n",
    "    print(inglist.isin([r]).sum())"
   ]
  },
  {
   "cell_type": "code",
   "execution_count": 12,
   "metadata": {},
   "outputs": [
    {
     "name": "stdout",
     "output_type": "stream",
     "text": [
      "1998       0\n",
      "1999       0\n",
      "2000       9\n",
      "2001      28\n",
      "2002      60\n",
      "2003     110\n",
      "2004     131\n",
      "2005     170\n",
      "2006     367\n",
      "2007     866\n",
      "2008     972\n",
      "2009    1454\n",
      "2010    2219\n",
      "2011    1675\n",
      "2012    3155\n",
      "2013    2991\n",
      "2014    2503\n",
      "dtype: int64\n",
      "1998       13\n",
      "1999       77\n",
      "2000     1284\n",
      "2001     2588\n",
      "2002     3464\n",
      "2003     5037\n",
      "2004     5189\n",
      "2005     6118\n",
      "2006     7978\n",
      "2007    16139\n",
      "2008    22512\n",
      "2009    33208\n",
      "2010    34942\n",
      "2011    31926\n",
      "2012    39686\n",
      "2013    37281\n",
      "2014    32403\n",
      "dtype: int64\n"
     ]
    }
   ],
   "source": [
    "ing_unique = ['アボカド', '塩']\n",
    "for r in ing_unique:\n",
    "    print(inglist.isin([r]).sum())"
   ]
  },
  {
   "cell_type": "code",
   "execution_count": 13,
   "metadata": {},
   "outputs": [
    {
     "name": "stdout",
     "output_type": "stream",
     "text": [
      "[   0    0    9   28   60  110  131  170  367  866  972 1454 2219 1675\n",
      " 3155 2991 2503]\n"
     ]
    }
   ],
   "source": [
    "tempseq1 = np.array(inglist.isin(['アボカド']).sum())\n",
    "print(tempseq1)"
   ]
  },
  {
   "cell_type": "code",
   "execution_count": 14,
   "metadata": {},
   "outputs": [
    {
     "name": "stdout",
     "output_type": "stream",
     "text": [
      "1097.481741538501\n"
     ]
    }
   ],
   "source": [
    "print(np.std(tempseq1))"
   ]
  },
  {
   "cell_type": "code",
   "execution_count": 15,
   "metadata": {},
   "outputs": [
    {
     "name": "stdout",
     "output_type": "stream",
     "text": [
      "[0.       0.       0.000225 0.0007   0.0015   0.00275  0.003275 0.00425\n",
      " 0.009175 0.02165  0.0243   0.03635  0.055475 0.041875 0.078875 0.074775\n",
      " 0.062575]\n"
     ]
    }
   ],
   "source": [
    "num_recipe = np.array([40000,40000,40000,40000,40000,40000,40000,40000,40000,40000,40000,40000,40000,40000,40000,40000,40000,])\n",
    "print(tempseq1/num_recipe)"
   ]
  },
  {
   "cell_type": "code",
   "execution_count": 16,
   "metadata": {},
   "outputs": [
    {
     "name": "stdout",
     "output_type": "stream",
     "text": [
      "[   0.            0.            9.           28.           60.\n",
      "  110.          131.          170.          367.          866.\n",
      "  972.         1454.         2219.         1675.         3155.\n",
      " 2991.         2503.         1097.48174154]\n"
     ]
    }
   ],
   "source": [
    "tempseq2 = np.append(tempseq1, np.std(tempseq1))\n",
    "print(tempseq2)"
   ]
  },
  {
   "cell_type": "code",
   "execution_count": 17,
   "metadata": {},
   "outputs": [],
   "source": [
    "tempseq2 = tempseq1/num_recipe\n",
    "tempseq3 = np.append(tempseq2, np.std(tempseq2))"
   ]
  },
  {
   "cell_type": "code",
   "execution_count": 18,
   "metadata": {},
   "outputs": [
    {
     "name": "stdout",
     "output_type": "stream",
     "text": [
      "[0.         0.         0.000225   0.0007     0.0015     0.00275\n",
      " 0.003275   0.00425    0.009175   0.02165    0.0243     0.03635\n",
      " 0.055475   0.041875   0.078875   0.074775   0.062575   0.02743704]\n"
     ]
    }
   ],
   "source": [
    "print(tempseq3)"
   ]
  },
  {
   "cell_type": "code",
   "execution_count": 19,
   "metadata": {},
   "outputs": [],
   "source": [
    "numlist = df = pd.DataFrame(np.random.random([18, 1]), columns=['none'])\n",
    "inglist = pd.DataFrame(index=df.index, columns=[])"
   ]
  },
  {
   "cell_type": "code",
   "execution_count": 20,
   "metadata": {},
   "outputs": [
    {
     "data": {
      "text/html": [
       "<div>\n",
       "<style scoped>\n",
       "    .dataframe tbody tr th:only-of-type {\n",
       "        vertical-align: middle;\n",
       "    }\n",
       "\n",
       "    .dataframe tbody tr th {\n",
       "        vertical-align: top;\n",
       "    }\n",
       "\n",
       "    .dataframe thead th {\n",
       "        text-align: right;\n",
       "    }\n",
       "</style>\n",
       "<table border=\"1\" class=\"dataframe\">\n",
       "  <thead>\n",
       "    <tr style=\"text-align: right;\">\n",
       "      <th></th>\n",
       "      <th>1998</th>\n",
       "      <th>1999</th>\n",
       "      <th>2000</th>\n",
       "      <th>2001</th>\n",
       "      <th>2002</th>\n",
       "      <th>2003</th>\n",
       "      <th>2004</th>\n",
       "      <th>2005</th>\n",
       "      <th>2006</th>\n",
       "      <th>2007</th>\n",
       "      <th>2008</th>\n",
       "      <th>2009</th>\n",
       "      <th>2010</th>\n",
       "      <th>2011</th>\n",
       "      <th>2012</th>\n",
       "      <th>2013</th>\n",
       "      <th>2014</th>\n",
       "    </tr>\n",
       "  </thead>\n",
       "  <tbody>\n",
       "    <tr>\n",
       "      <th>0</th>\n",
       "      <td>スライスチーズ</td>\n",
       "      <td>カルピス</td>\n",
       "      <td>パスタ</td>\n",
       "      <td>赤じそ</td>\n",
       "      <td>なす</td>\n",
       "      <td>はんぺん</td>\n",
       "      <td>薄力粉</td>\n",
       "      <td>クリームチーズ</td>\n",
       "      <td>ブルーベリー</td>\n",
       "      <td>白菜</td>\n",
       "      <td>にんじん</td>\n",
       "      <td>鶏がら</td>\n",
       "      <td>＋ハンバーグ＋</td>\n",
       "      <td>ホットケーキミックス</td>\n",
       "      <td>豚こま</td>\n",
       "      <td>薄揚げ</td>\n",
       "      <td>じゃがいも中玉</td>\n",
       "    </tr>\n",
       "    <tr>\n",
       "      <th>1</th>\n",
       "      <td>チキンブイヨン</td>\n",
       "      <td>牛乳</td>\n",
       "      <td>キュウリ</td>\n",
       "      <td>塩</td>\n",
       "      <td>大葉</td>\n",
       "      <td>スライスチーズ</td>\n",
       "      <td>アーモンドプードル</td>\n",
       "      <td>サワークリーム</td>\n",
       "      <td>りんご酢</td>\n",
       "      <td>肉（豚or牛）</td>\n",
       "      <td>ごま油</td>\n",
       "      <td>水</td>\n",
       "      <td>合挽ミンチ:</td>\n",
       "      <td>プレーンヨ−グルト(無糖)</td>\n",
       "      <td>ブロッコリー</td>\n",
       "      <td>うどん</td>\n",
       "      <td>きゅうり</td>\n",
       "    </tr>\n",
       "    <tr>\n",
       "      <th>2</th>\n",
       "      <td>白米</td>\n",
       "      <td>炭酸水</td>\n",
       "      <td>レタス</td>\n",
       "      <td>砂糖</td>\n",
       "      <td>からし</td>\n",
       "      <td>しょう油</td>\n",
       "      <td>無塩バター</td>\n",
       "      <td>砂糖</td>\n",
       "      <td>氷砂糖</td>\n",
       "      <td>めんつゆ</td>\n",
       "      <td>塩コショウ</td>\n",
       "      <td>豆乳</td>\n",
       "      <td>たまねぎ:</td>\n",
       "      <td>卵</td>\n",
       "      <td>たまねぎ</td>\n",
       "      <td>青ネギ</td>\n",
       "      <td>たらこクリームパスタの素</td>\n",
       "    </tr>\n",
       "    <tr>\n",
       "      <th>3</th>\n",
       "      <td>鮭</td>\n",
       "      <td>マグロ中落ち</td>\n",
       "      <td>鶏肉</td>\n",
       "      <td>ホワイトリカー</td>\n",
       "      <td>だししょうゆ</td>\n",
       "      <td>わさび</td>\n",
       "      <td>卵黄</td>\n",
       "      <td>卵</td>\n",
       "      <td>ほうれん草</td>\n",
       "      <td>◎紅茶ティパック(アールグレイ)</td>\n",
       "      <td>パスタ</td>\n",
       "      <td>鶏もも肉</td>\n",
       "      <td>ニンジン:</td>\n",
       "      <td>砂糖</td>\n",
       "      <td>にんじん</td>\n",
       "      <td>だしの素</td>\n",
       "      <td>マヨネーズ</td>\n",
       "    </tr>\n",
       "    <tr>\n",
       "      <th>4</th>\n",
       "      <td>たまねぎ</td>\n",
       "      <td>アボガド</td>\n",
       "      <td>塩</td>\n",
       "      <td>アカハラ</td>\n",
       "      <td>サラダ油</td>\n",
       "      <td>バター</td>\n",
       "      <td>グラニュー糖</td>\n",
       "      <td>レモンの絞り汁</td>\n",
       "      <td>ひき肉</td>\n",
       "      <td>●ゼラチン</td>\n",
       "      <td>アボカド</td>\n",
       "      <td>白菜</td>\n",
       "      <td>たまご:</td>\n",
       "      <td>食用油</td>\n",
       "      <td>ほうれんそう</td>\n",
       "      <td>醤油</td>\n",
       "      <td>塩</td>\n",
       "    </tr>\n",
       "  </tbody>\n",
       "</table>\n",
       "</div>"
      ],
      "text/plain": [
       "      1998    1999  2000     2001    2002     2003       2004     2005  \\\n",
       "0  スライスチーズ    カルピス   パスタ      赤じそ      なす     はんぺん        薄力粉  クリームチーズ   \n",
       "1  チキンブイヨン      牛乳  キュウリ        塩      大葉  スライスチーズ  アーモンドプードル  サワークリーム   \n",
       "2       白米     炭酸水   レタス       砂糖     からし     しょう油      無塩バター       砂糖   \n",
       "3        鮭  マグロ中落ち    鶏肉  ホワイトリカー  だししょうゆ      わさび         卵黄        卵   \n",
       "4     たまねぎ    アボガド     塩     アカハラ    サラダ油      バター     グラニュー糖  レモンの絞り汁   \n",
       "\n",
       "     2006              2007   2008  2009     2010           2011    2012  \\\n",
       "0  ブルーベリー                白菜   にんじん   鶏がら  ＋ハンバーグ＋     ホットケーキミックス     豚こま   \n",
       "1    りんご酢           肉（豚or牛）    ごま油     水   合挽ミンチ:  プレーンヨ−グルト(無糖)  ブロッコリー   \n",
       "2     氷砂糖              めんつゆ  塩コショウ    豆乳    たまねぎ:              卵    たまねぎ   \n",
       "3   ほうれん草  ◎紅茶ティパック(アールグレイ)    パスタ  鶏もも肉    ニンジン:             砂糖    にんじん   \n",
       "4     ひき肉             ●ゼラチン   アボカド    白菜     たまご:            食用油  ほうれんそう   \n",
       "\n",
       "   2013          2014  \n",
       "0   薄揚げ       じゃがいも中玉  \n",
       "1   うどん          きゅうり  \n",
       "2   青ネギ  たらこクリームパスタの素  \n",
       "3  だしの素         マヨネーズ  \n",
       "4    醤油             塩  "
      ]
     },
     "execution_count": 20,
     "metadata": {},
     "output_type": "execute_result"
    }
   ],
   "source": [
    "df = pd.DataFrame(np.random.random([1866147, 1]), columns=['none'])\n",
    "inglist = pd.DataFrame(index=df.index, columns=[])\n",
    "\n",
    "for i in range(1998,2015):\n",
    "    inglist[i] = pd.read_csv(\"ingredient{}.csv\".format(i) ,names = col_name)['食材']\n",
    "inglist.head()"
   ]
  },
  {
   "cell_type": "code",
   "execution_count": 21,
   "metadata": {},
   "outputs": [],
   "source": [
    "df = pd.DataFrame(np.random.random([18, 1]), columns=['none'])\n",
    "numlist = pd.DataFrame(index=df.index, columns=[])"
   ]
  },
  {
   "cell_type": "code",
   "execution_count": 22,
   "metadata": {},
   "outputs": [
    {
     "name": "stdout",
     "output_type": "stream",
     "text": [
      "        アボカド         塩\n",
      "0   0.000000  0.000325\n",
      "1   0.000000  0.001925\n",
      "2   0.000225  0.032100\n",
      "3   0.000700  0.064700\n",
      "4   0.001500  0.086600\n",
      "5   0.002750  0.125925\n",
      "6   0.003275  0.129725\n",
      "7   0.004250  0.152950\n",
      "8   0.009175  0.199450\n",
      "9   0.021650  0.403475\n",
      "10  0.024300  0.562800\n",
      "11  0.036350  0.830200\n",
      "12  0.055475  0.873550\n",
      "13  0.041875  0.798150\n",
      "14  0.078875  0.992150\n",
      "15  0.074775  0.932025\n",
      "16  0.062575  0.810075\n",
      "17  0.027437  0.368428\n"
     ]
    }
   ],
   "source": [
    "ing_unique = ['アボカド', '塩']\n",
    "for r in ing_unique:\n",
    "    tempseq1 = np.array(inglist.isin([r]).sum())\n",
    "    tempseq2 = tempseq1/num_recipe\n",
    "    tempseq3 = np.append(tempseq2, np.std(tempseq2))\n",
    "    numlist[r] = tempseq3\n",
    "print(numlist)"
   ]
  },
  {
   "cell_type": "code",
   "execution_count": null,
   "metadata": {},
   "outputs": [],
   "source": []
  }
 ],
 "metadata": {
  "kernelspec": {
   "display_name": "Python 3",
   "language": "python",
   "name": "python3"
  },
  "language_info": {
   "codemirror_mode": {
    "name": "ipython",
    "version": 3
   },
   "file_extension": ".py",
   "mimetype": "text/x-python",
   "name": "python",
   "nbconvert_exporter": "python",
   "pygments_lexer": "ipython3",
   "version": "3.7.3"
  }
 },
 "nbformat": 4,
 "nbformat_minor": 2
}
